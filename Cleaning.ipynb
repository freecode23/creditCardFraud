{
 "cells": [
  {
   "cell_type": "markdown",
   "metadata": {},
   "source": [
    "## 1 Data Wrangling"
   ]
  },
  {
   "cell_type": "markdown",
   "metadata": {},
   "source": [
    "#  Contents<a id='Contents'></a>\n",
    "* [1. Imports](#1._Imports)\n",
    "* [2. Convert txt file to data frame](#2._Convert_txt_file_to_data_frame)\n",
    "* [3. Clean empty values](#3._Clean)\n",
    "* [4. Data Types Problem](#4._Data_Types)\n",
    "* [5. Profiling](#5._Profiling)\n",
    "* [6. Drop columns](#6._Drop_columns)\n",
    "* [7. Explore the Data](#7._Explore_Data)\n",
    "    * [7.1. Date Time Features](#7._Date_Time)\n",
    "    * [7.2. Categorical Features](#7._Categorical)\n",
    "    * [7.3. Numerical Features](#7._Numerical)\n",
    "* [8. Save Data](#8._Save)\n"
   ]
  },
  {
   "cell_type": "markdown",
   "metadata": {},
   "source": [
    "## 1. Imports <a id='1._Imports'></a>"
   ]
  },
  {
   "cell_type": "code",
   "execution_count": 1,
   "metadata": {},
   "outputs": [],
   "source": [
    "import pandas as pd\n",
    "import numpy as np\n",
    "import matplotlib.pyplot as plt\n",
    "import json\n",
    "import os\n",
    "pd.options.mode.chained_assignment = None  # default='warn'\n",
    "from pandas_profiling import ProfileReport\n"
   ]
  },
  {
   "cell_type": "markdown",
   "metadata": {},
   "source": [
    "## 2. Convert txt file to data frame<a id='2._Convert_txt_file_to_data_frame'></a>"
   ]
  },
  {
   "cell_type": "code",
   "execution_count": 2,
   "metadata": {},
   "outputs": [],
   "source": [
    "# https://stackoverflow.com/questions/47889565/reading-json-objects-from-text-file-into-pandas\n",
    "\n",
    "list = []\n",
    "with open('transactions.txt') as file:\n",
    "    for line in file:\n",
    "        list.append(json.loads(line)) #convert each line to json then add to list\n",
    "\n"
   ]
  },
  {
   "cell_type": "code",
   "execution_count": 3,
   "metadata": {},
   "outputs": [],
   "source": [
    "transactions = pd.DataFrame(list) # convert this list into panda data frame"
   ]
  },
  {
   "cell_type": "code",
   "execution_count": 4,
   "metadata": {},
   "outputs": [
    {
     "data": {
      "text/html": [
       "<div>\n",
       "<style scoped>\n",
       "    .dataframe tbody tr th:only-of-type {\n",
       "        vertical-align: middle;\n",
       "    }\n",
       "\n",
       "    .dataframe tbody tr th {\n",
       "        vertical-align: top;\n",
       "    }\n",
       "\n",
       "    .dataframe thead th {\n",
       "        text-align: right;\n",
       "    }\n",
       "</style>\n",
       "<table border=\"1\" class=\"dataframe\">\n",
       "  <thead>\n",
       "    <tr style=\"text-align: right;\">\n",
       "      <th></th>\n",
       "      <th>accountNumber</th>\n",
       "      <th>customerId</th>\n",
       "      <th>creditLimit</th>\n",
       "      <th>availableMoney</th>\n",
       "      <th>transactionDateTime</th>\n",
       "      <th>transactionAmount</th>\n",
       "      <th>merchantName</th>\n",
       "      <th>acqCountry</th>\n",
       "      <th>merchantCountryCode</th>\n",
       "      <th>posEntryMode</th>\n",
       "      <th>...</th>\n",
       "      <th>echoBuffer</th>\n",
       "      <th>currentBalance</th>\n",
       "      <th>merchantCity</th>\n",
       "      <th>merchantState</th>\n",
       "      <th>merchantZip</th>\n",
       "      <th>cardPresent</th>\n",
       "      <th>posOnPremises</th>\n",
       "      <th>recurringAuthInd</th>\n",
       "      <th>expirationDateKeyInMatch</th>\n",
       "      <th>isFraud</th>\n",
       "    </tr>\n",
       "  </thead>\n",
       "  <tbody>\n",
       "    <tr>\n",
       "      <th>0</th>\n",
       "      <td>737265056</td>\n",
       "      <td>737265056</td>\n",
       "      <td>5000.0</td>\n",
       "      <td>5000.00</td>\n",
       "      <td>2016-08-13T14:27:32</td>\n",
       "      <td>98.55</td>\n",
       "      <td>Uber</td>\n",
       "      <td>US</td>\n",
       "      <td>US</td>\n",
       "      <td>02</td>\n",
       "      <td>...</td>\n",
       "      <td></td>\n",
       "      <td>0.00</td>\n",
       "      <td></td>\n",
       "      <td></td>\n",
       "      <td></td>\n",
       "      <td>False</td>\n",
       "      <td></td>\n",
       "      <td></td>\n",
       "      <td>False</td>\n",
       "      <td>False</td>\n",
       "    </tr>\n",
       "    <tr>\n",
       "      <th>1</th>\n",
       "      <td>737265056</td>\n",
       "      <td>737265056</td>\n",
       "      <td>5000.0</td>\n",
       "      <td>5000.00</td>\n",
       "      <td>2016-10-11T05:05:54</td>\n",
       "      <td>74.51</td>\n",
       "      <td>AMC #191138</td>\n",
       "      <td>US</td>\n",
       "      <td>US</td>\n",
       "      <td>09</td>\n",
       "      <td>...</td>\n",
       "      <td></td>\n",
       "      <td>0.00</td>\n",
       "      <td></td>\n",
       "      <td></td>\n",
       "      <td></td>\n",
       "      <td>True</td>\n",
       "      <td></td>\n",
       "      <td></td>\n",
       "      <td>False</td>\n",
       "      <td>False</td>\n",
       "    </tr>\n",
       "    <tr>\n",
       "      <th>2</th>\n",
       "      <td>737265056</td>\n",
       "      <td>737265056</td>\n",
       "      <td>5000.0</td>\n",
       "      <td>5000.00</td>\n",
       "      <td>2016-11-08T09:18:39</td>\n",
       "      <td>7.47</td>\n",
       "      <td>Play Store</td>\n",
       "      <td>US</td>\n",
       "      <td>US</td>\n",
       "      <td>09</td>\n",
       "      <td>...</td>\n",
       "      <td></td>\n",
       "      <td>0.00</td>\n",
       "      <td></td>\n",
       "      <td></td>\n",
       "      <td></td>\n",
       "      <td>False</td>\n",
       "      <td></td>\n",
       "      <td></td>\n",
       "      <td>False</td>\n",
       "      <td>False</td>\n",
       "    </tr>\n",
       "    <tr>\n",
       "      <th>3</th>\n",
       "      <td>737265056</td>\n",
       "      <td>737265056</td>\n",
       "      <td>5000.0</td>\n",
       "      <td>5000.00</td>\n",
       "      <td>2016-12-10T02:14:50</td>\n",
       "      <td>7.47</td>\n",
       "      <td>Play Store</td>\n",
       "      <td>US</td>\n",
       "      <td>US</td>\n",
       "      <td>09</td>\n",
       "      <td>...</td>\n",
       "      <td></td>\n",
       "      <td>0.00</td>\n",
       "      <td></td>\n",
       "      <td></td>\n",
       "      <td></td>\n",
       "      <td>False</td>\n",
       "      <td></td>\n",
       "      <td></td>\n",
       "      <td>False</td>\n",
       "      <td>False</td>\n",
       "    </tr>\n",
       "    <tr>\n",
       "      <th>4</th>\n",
       "      <td>830329091</td>\n",
       "      <td>830329091</td>\n",
       "      <td>5000.0</td>\n",
       "      <td>5000.00</td>\n",
       "      <td>2016-03-24T21:04:46</td>\n",
       "      <td>71.18</td>\n",
       "      <td>Tim Hortons #947751</td>\n",
       "      <td>US</td>\n",
       "      <td>US</td>\n",
       "      <td>02</td>\n",
       "      <td>...</td>\n",
       "      <td></td>\n",
       "      <td>0.00</td>\n",
       "      <td></td>\n",
       "      <td></td>\n",
       "      <td></td>\n",
       "      <td>True</td>\n",
       "      <td></td>\n",
       "      <td></td>\n",
       "      <td>False</td>\n",
       "      <td>False</td>\n",
       "    </tr>\n",
       "    <tr>\n",
       "      <th>...</th>\n",
       "      <td>...</td>\n",
       "      <td>...</td>\n",
       "      <td>...</td>\n",
       "      <td>...</td>\n",
       "      <td>...</td>\n",
       "      <td>...</td>\n",
       "      <td>...</td>\n",
       "      <td>...</td>\n",
       "      <td>...</td>\n",
       "      <td>...</td>\n",
       "      <td>...</td>\n",
       "      <td>...</td>\n",
       "      <td>...</td>\n",
       "      <td>...</td>\n",
       "      <td>...</td>\n",
       "      <td>...</td>\n",
       "      <td>...</td>\n",
       "      <td>...</td>\n",
       "      <td>...</td>\n",
       "      <td>...</td>\n",
       "      <td>...</td>\n",
       "    </tr>\n",
       "    <tr>\n",
       "      <th>786358</th>\n",
       "      <td>732852505</td>\n",
       "      <td>732852505</td>\n",
       "      <td>50000.0</td>\n",
       "      <td>48904.96</td>\n",
       "      <td>2016-12-22T18:44:12</td>\n",
       "      <td>119.92</td>\n",
       "      <td>Lyft</td>\n",
       "      <td>US</td>\n",
       "      <td>US</td>\n",
       "      <td>90</td>\n",
       "      <td>...</td>\n",
       "      <td></td>\n",
       "      <td>1095.04</td>\n",
       "      <td></td>\n",
       "      <td></td>\n",
       "      <td></td>\n",
       "      <td>False</td>\n",
       "      <td></td>\n",
       "      <td></td>\n",
       "      <td>False</td>\n",
       "      <td>False</td>\n",
       "    </tr>\n",
       "    <tr>\n",
       "      <th>786359</th>\n",
       "      <td>732852505</td>\n",
       "      <td>732852505</td>\n",
       "      <td>50000.0</td>\n",
       "      <td>48785.04</td>\n",
       "      <td>2016-12-25T16:20:34</td>\n",
       "      <td>18.89</td>\n",
       "      <td>hulu.com</td>\n",
       "      <td>US</td>\n",
       "      <td>US</td>\n",
       "      <td>09</td>\n",
       "      <td>...</td>\n",
       "      <td></td>\n",
       "      <td>1214.96</td>\n",
       "      <td></td>\n",
       "      <td></td>\n",
       "      <td></td>\n",
       "      <td>False</td>\n",
       "      <td></td>\n",
       "      <td></td>\n",
       "      <td>False</td>\n",
       "      <td>False</td>\n",
       "    </tr>\n",
       "    <tr>\n",
       "      <th>786360</th>\n",
       "      <td>732852505</td>\n",
       "      <td>732852505</td>\n",
       "      <td>50000.0</td>\n",
       "      <td>48766.15</td>\n",
       "      <td>2016-12-27T15:46:24</td>\n",
       "      <td>49.43</td>\n",
       "      <td>Lyft</td>\n",
       "      <td>US</td>\n",
       "      <td>US</td>\n",
       "      <td>02</td>\n",
       "      <td>...</td>\n",
       "      <td></td>\n",
       "      <td>1233.85</td>\n",
       "      <td></td>\n",
       "      <td></td>\n",
       "      <td></td>\n",
       "      <td>False</td>\n",
       "      <td></td>\n",
       "      <td></td>\n",
       "      <td>False</td>\n",
       "      <td>False</td>\n",
       "    </tr>\n",
       "    <tr>\n",
       "      <th>786361</th>\n",
       "      <td>732852505</td>\n",
       "      <td>732852505</td>\n",
       "      <td>50000.0</td>\n",
       "      <td>48716.72</td>\n",
       "      <td>2016-12-29T00:30:55</td>\n",
       "      <td>49.89</td>\n",
       "      <td>walmart.com</td>\n",
       "      <td>US</td>\n",
       "      <td>US</td>\n",
       "      <td>09</td>\n",
       "      <td>...</td>\n",
       "      <td></td>\n",
       "      <td>1283.28</td>\n",
       "      <td></td>\n",
       "      <td></td>\n",
       "      <td></td>\n",
       "      <td>False</td>\n",
       "      <td></td>\n",
       "      <td></td>\n",
       "      <td>False</td>\n",
       "      <td>False</td>\n",
       "    </tr>\n",
       "    <tr>\n",
       "      <th>786362</th>\n",
       "      <td>732852505</td>\n",
       "      <td>732852505</td>\n",
       "      <td>50000.0</td>\n",
       "      <td>48666.83</td>\n",
       "      <td>2016-12-30T20:10:29</td>\n",
       "      <td>72.18</td>\n",
       "      <td>Uber</td>\n",
       "      <td>US</td>\n",
       "      <td>US</td>\n",
       "      <td>05</td>\n",
       "      <td>...</td>\n",
       "      <td></td>\n",
       "      <td>1333.17</td>\n",
       "      <td></td>\n",
       "      <td></td>\n",
       "      <td></td>\n",
       "      <td>False</td>\n",
       "      <td></td>\n",
       "      <td></td>\n",
       "      <td>False</td>\n",
       "      <td>False</td>\n",
       "    </tr>\n",
       "  </tbody>\n",
       "</table>\n",
       "<p>786363 rows × 29 columns</p>\n",
       "</div>"
      ],
      "text/plain": [
       "       accountNumber customerId  creditLimit  availableMoney  \\\n",
       "0          737265056  737265056       5000.0         5000.00   \n",
       "1          737265056  737265056       5000.0         5000.00   \n",
       "2          737265056  737265056       5000.0         5000.00   \n",
       "3          737265056  737265056       5000.0         5000.00   \n",
       "4          830329091  830329091       5000.0         5000.00   \n",
       "...              ...        ...          ...             ...   \n",
       "786358     732852505  732852505      50000.0        48904.96   \n",
       "786359     732852505  732852505      50000.0        48785.04   \n",
       "786360     732852505  732852505      50000.0        48766.15   \n",
       "786361     732852505  732852505      50000.0        48716.72   \n",
       "786362     732852505  732852505      50000.0        48666.83   \n",
       "\n",
       "        transactionDateTime  transactionAmount         merchantName  \\\n",
       "0       2016-08-13T14:27:32              98.55                 Uber   \n",
       "1       2016-10-11T05:05:54              74.51          AMC #191138   \n",
       "2       2016-11-08T09:18:39               7.47           Play Store   \n",
       "3       2016-12-10T02:14:50               7.47           Play Store   \n",
       "4       2016-03-24T21:04:46              71.18  Tim Hortons #947751   \n",
       "...                     ...                ...                  ...   \n",
       "786358  2016-12-22T18:44:12             119.92                 Lyft   \n",
       "786359  2016-12-25T16:20:34              18.89             hulu.com   \n",
       "786360  2016-12-27T15:46:24              49.43                 Lyft   \n",
       "786361  2016-12-29T00:30:55              49.89          walmart.com   \n",
       "786362  2016-12-30T20:10:29              72.18                 Uber   \n",
       "\n",
       "       acqCountry merchantCountryCode posEntryMode  ... echoBuffer  \\\n",
       "0              US                  US           02  ...              \n",
       "1              US                  US           09  ...              \n",
       "2              US                  US           09  ...              \n",
       "3              US                  US           09  ...              \n",
       "4              US                  US           02  ...              \n",
       "...           ...                 ...          ...  ...        ...   \n",
       "786358         US                  US           90  ...              \n",
       "786359         US                  US           09  ...              \n",
       "786360         US                  US           02  ...              \n",
       "786361         US                  US           09  ...              \n",
       "786362         US                  US           05  ...              \n",
       "\n",
       "       currentBalance merchantCity merchantState merchantZip cardPresent  \\\n",
       "0                0.00                                              False   \n",
       "1                0.00                                               True   \n",
       "2                0.00                                              False   \n",
       "3                0.00                                              False   \n",
       "4                0.00                                               True   \n",
       "...               ...          ...           ...         ...         ...   \n",
       "786358        1095.04                                              False   \n",
       "786359        1214.96                                              False   \n",
       "786360        1233.85                                              False   \n",
       "786361        1283.28                                              False   \n",
       "786362        1333.17                                              False   \n",
       "\n",
       "       posOnPremises recurringAuthInd expirationDateKeyInMatch isFraud  \n",
       "0                                                        False   False  \n",
       "1                                                        False   False  \n",
       "2                                                        False   False  \n",
       "3                                                        False   False  \n",
       "4                                                        False   False  \n",
       "...              ...              ...                      ...     ...  \n",
       "786358                                                   False   False  \n",
       "786359                                                   False   False  \n",
       "786360                                                   False   False  \n",
       "786361                                                   False   False  \n",
       "786362                                                   False   False  \n",
       "\n",
       "[786363 rows x 29 columns]"
      ]
     },
     "execution_count": 4,
     "metadata": {},
     "output_type": "execute_result"
    }
   ],
   "source": [
    "transactions"
   ]
  },
  {
   "cell_type": "markdown",
   "metadata": {},
   "source": [
    "## 3. Clean empty values<a id='3._Clean'></a>\n"
   ]
  },
  {
   "cell_type": "code",
   "execution_count": 5,
   "metadata": {},
   "outputs": [
    {
     "data": {
      "text/plain": [
       "(786363, 29)"
      ]
     },
     "execution_count": 5,
     "metadata": {},
     "output_type": "execute_result"
    }
   ],
   "source": [
    "transactions.shape"
   ]
  },
  {
   "cell_type": "code",
   "execution_count": 6,
   "metadata": {},
   "outputs": [],
   "source": [
    "# too big cut to half use iloc for slicing on index\n",
    "transactions = transactions.iloc[50000:,:]"
   ]
  },
  {
   "cell_type": "code",
   "execution_count": 7,
   "metadata": {},
   "outputs": [],
   "source": [
    "# replace empty string with Nan\n",
    "transactions_Nan = transactions.replace('', np.nan)"
   ]
  },
  {
   "cell_type": "code",
   "execution_count": 8,
   "metadata": {},
   "outputs": [],
   "source": [
    "# drop all Nan column\n",
    "transactions_dropped = transactions_Nan.dropna(how='all',axis= 1)"
   ]
  },
  {
   "cell_type": "code",
   "execution_count": 9,
   "metadata": {},
   "outputs": [
    {
     "data": {
      "text/html": [
       "<div>\n",
       "<style scoped>\n",
       "    .dataframe tbody tr th:only-of-type {\n",
       "        vertical-align: middle;\n",
       "    }\n",
       "\n",
       "    .dataframe tbody tr th {\n",
       "        vertical-align: top;\n",
       "    }\n",
       "\n",
       "    .dataframe thead th {\n",
       "        text-align: right;\n",
       "    }\n",
       "</style>\n",
       "<table border=\"1\" class=\"dataframe\">\n",
       "  <thead>\n",
       "    <tr style=\"text-align: right;\">\n",
       "      <th></th>\n",
       "      <th>accountNumber</th>\n",
       "      <th>customerId</th>\n",
       "      <th>creditLimit</th>\n",
       "      <th>availableMoney</th>\n",
       "      <th>transactionDateTime</th>\n",
       "      <th>transactionAmount</th>\n",
       "      <th>merchantName</th>\n",
       "      <th>acqCountry</th>\n",
       "      <th>merchantCountryCode</th>\n",
       "      <th>posEntryMode</th>\n",
       "      <th>...</th>\n",
       "      <th>accountOpenDate</th>\n",
       "      <th>dateOfLastAddressChange</th>\n",
       "      <th>cardCVV</th>\n",
       "      <th>enteredCVV</th>\n",
       "      <th>cardLast4Digits</th>\n",
       "      <th>transactionType</th>\n",
       "      <th>currentBalance</th>\n",
       "      <th>cardPresent</th>\n",
       "      <th>expirationDateKeyInMatch</th>\n",
       "      <th>isFraud</th>\n",
       "    </tr>\n",
       "  </thead>\n",
       "  <tbody>\n",
       "    <tr>\n",
       "      <th>50000</th>\n",
       "      <td>246251253</td>\n",
       "      <td>246251253</td>\n",
       "      <td>5000.0</td>\n",
       "      <td>624.04</td>\n",
       "      <td>2016-01-20T19:00:48</td>\n",
       "      <td>352.62</td>\n",
       "      <td>Domino's Pizza #347016</td>\n",
       "      <td>US</td>\n",
       "      <td>US</td>\n",
       "      <td>02</td>\n",
       "      <td>...</td>\n",
       "      <td>2014-10-02</td>\n",
       "      <td>2016-01-19</td>\n",
       "      <td>455</td>\n",
       "      <td>455</td>\n",
       "      <td>6002</td>\n",
       "      <td>PURCHASE</td>\n",
       "      <td>4375.96</td>\n",
       "      <td>True</td>\n",
       "      <td>False</td>\n",
       "      <td>False</td>\n",
       "    </tr>\n",
       "    <tr>\n",
       "      <th>50001</th>\n",
       "      <td>246251253</td>\n",
       "      <td>246251253</td>\n",
       "      <td>5000.0</td>\n",
       "      <td>271.42</td>\n",
       "      <td>2016-01-20T19:37:11</td>\n",
       "      <td>22.96</td>\n",
       "      <td>amazon.com</td>\n",
       "      <td>MEX</td>\n",
       "      <td>MEX</td>\n",
       "      <td>02</td>\n",
       "      <td>...</td>\n",
       "      <td>2014-10-02</td>\n",
       "      <td>2016-01-19</td>\n",
       "      <td>455</td>\n",
       "      <td>455</td>\n",
       "      <td>6002</td>\n",
       "      <td>PURCHASE</td>\n",
       "      <td>4728.58</td>\n",
       "      <td>False</td>\n",
       "      <td>False</td>\n",
       "      <td>False</td>\n",
       "    </tr>\n",
       "    <tr>\n",
       "      <th>50002</th>\n",
       "      <td>246251253</td>\n",
       "      <td>246251253</td>\n",
       "      <td>5000.0</td>\n",
       "      <td>1677.46</td>\n",
       "      <td>2016-01-20T19:45:23</td>\n",
       "      <td>102.76</td>\n",
       "      <td>discount.com</td>\n",
       "      <td>US</td>\n",
       "      <td>US</td>\n",
       "      <td>02</td>\n",
       "      <td>...</td>\n",
       "      <td>2014-10-02</td>\n",
       "      <td>2016-01-19</td>\n",
       "      <td>455</td>\n",
       "      <td>455</td>\n",
       "      <td>6002</td>\n",
       "      <td>PURCHASE</td>\n",
       "      <td>3322.54</td>\n",
       "      <td>False</td>\n",
       "      <td>False</td>\n",
       "      <td>False</td>\n",
       "    </tr>\n",
       "    <tr>\n",
       "      <th>50003</th>\n",
       "      <td>246251253</td>\n",
       "      <td>246251253</td>\n",
       "      <td>5000.0</td>\n",
       "      <td>1574.70</td>\n",
       "      <td>2016-01-20T19:52:39</td>\n",
       "      <td>41.50</td>\n",
       "      <td>Shake Shack #332129</td>\n",
       "      <td>US</td>\n",
       "      <td>US</td>\n",
       "      <td>05</td>\n",
       "      <td>...</td>\n",
       "      <td>2014-10-02</td>\n",
       "      <td>2016-01-19</td>\n",
       "      <td>455</td>\n",
       "      <td>455</td>\n",
       "      <td>6002</td>\n",
       "      <td>PURCHASE</td>\n",
       "      <td>3425.30</td>\n",
       "      <td>True</td>\n",
       "      <td>False</td>\n",
       "      <td>False</td>\n",
       "    </tr>\n",
       "    <tr>\n",
       "      <th>50004</th>\n",
       "      <td>246251253</td>\n",
       "      <td>246251253</td>\n",
       "      <td>5000.0</td>\n",
       "      <td>1533.20</td>\n",
       "      <td>2016-01-20T20:40:56</td>\n",
       "      <td>241.64</td>\n",
       "      <td>Dunkin' Donuts #237164</td>\n",
       "      <td>US</td>\n",
       "      <td>US</td>\n",
       "      <td>09</td>\n",
       "      <td>...</td>\n",
       "      <td>2014-10-02</td>\n",
       "      <td>2016-01-19</td>\n",
       "      <td>455</td>\n",
       "      <td>455</td>\n",
       "      <td>6002</td>\n",
       "      <td>PURCHASE</td>\n",
       "      <td>3466.80</td>\n",
       "      <td>True</td>\n",
       "      <td>False</td>\n",
       "      <td>False</td>\n",
       "    </tr>\n",
       "    <tr>\n",
       "      <th>...</th>\n",
       "      <td>...</td>\n",
       "      <td>...</td>\n",
       "      <td>...</td>\n",
       "      <td>...</td>\n",
       "      <td>...</td>\n",
       "      <td>...</td>\n",
       "      <td>...</td>\n",
       "      <td>...</td>\n",
       "      <td>...</td>\n",
       "      <td>...</td>\n",
       "      <td>...</td>\n",
       "      <td>...</td>\n",
       "      <td>...</td>\n",
       "      <td>...</td>\n",
       "      <td>...</td>\n",
       "      <td>...</td>\n",
       "      <td>...</td>\n",
       "      <td>...</td>\n",
       "      <td>...</td>\n",
       "      <td>...</td>\n",
       "      <td>...</td>\n",
       "    </tr>\n",
       "    <tr>\n",
       "      <th>786358</th>\n",
       "      <td>732852505</td>\n",
       "      <td>732852505</td>\n",
       "      <td>50000.0</td>\n",
       "      <td>48904.96</td>\n",
       "      <td>2016-12-22T18:44:12</td>\n",
       "      <td>119.92</td>\n",
       "      <td>Lyft</td>\n",
       "      <td>US</td>\n",
       "      <td>US</td>\n",
       "      <td>90</td>\n",
       "      <td>...</td>\n",
       "      <td>2012-08-23</td>\n",
       "      <td>2012-08-23</td>\n",
       "      <td>936</td>\n",
       "      <td>936</td>\n",
       "      <td>3783</td>\n",
       "      <td>PURCHASE</td>\n",
       "      <td>1095.04</td>\n",
       "      <td>False</td>\n",
       "      <td>False</td>\n",
       "      <td>False</td>\n",
       "    </tr>\n",
       "    <tr>\n",
       "      <th>786359</th>\n",
       "      <td>732852505</td>\n",
       "      <td>732852505</td>\n",
       "      <td>50000.0</td>\n",
       "      <td>48785.04</td>\n",
       "      <td>2016-12-25T16:20:34</td>\n",
       "      <td>18.89</td>\n",
       "      <td>hulu.com</td>\n",
       "      <td>US</td>\n",
       "      <td>US</td>\n",
       "      <td>09</td>\n",
       "      <td>...</td>\n",
       "      <td>2012-08-23</td>\n",
       "      <td>2012-08-23</td>\n",
       "      <td>939</td>\n",
       "      <td>939</td>\n",
       "      <td>3388</td>\n",
       "      <td>PURCHASE</td>\n",
       "      <td>1214.96</td>\n",
       "      <td>False</td>\n",
       "      <td>False</td>\n",
       "      <td>False</td>\n",
       "    </tr>\n",
       "    <tr>\n",
       "      <th>786360</th>\n",
       "      <td>732852505</td>\n",
       "      <td>732852505</td>\n",
       "      <td>50000.0</td>\n",
       "      <td>48766.15</td>\n",
       "      <td>2016-12-27T15:46:24</td>\n",
       "      <td>49.43</td>\n",
       "      <td>Lyft</td>\n",
       "      <td>US</td>\n",
       "      <td>US</td>\n",
       "      <td>02</td>\n",
       "      <td>...</td>\n",
       "      <td>2012-08-23</td>\n",
       "      <td>2012-08-23</td>\n",
       "      <td>936</td>\n",
       "      <td>936</td>\n",
       "      <td>3783</td>\n",
       "      <td>PURCHASE</td>\n",
       "      <td>1233.85</td>\n",
       "      <td>False</td>\n",
       "      <td>False</td>\n",
       "      <td>False</td>\n",
       "    </tr>\n",
       "    <tr>\n",
       "      <th>786361</th>\n",
       "      <td>732852505</td>\n",
       "      <td>732852505</td>\n",
       "      <td>50000.0</td>\n",
       "      <td>48716.72</td>\n",
       "      <td>2016-12-29T00:30:55</td>\n",
       "      <td>49.89</td>\n",
       "      <td>walmart.com</td>\n",
       "      <td>US</td>\n",
       "      <td>US</td>\n",
       "      <td>09</td>\n",
       "      <td>...</td>\n",
       "      <td>2012-08-23</td>\n",
       "      <td>2012-08-23</td>\n",
       "      <td>939</td>\n",
       "      <td>939</td>\n",
       "      <td>3388</td>\n",
       "      <td>PURCHASE</td>\n",
       "      <td>1283.28</td>\n",
       "      <td>False</td>\n",
       "      <td>False</td>\n",
       "      <td>False</td>\n",
       "    </tr>\n",
       "    <tr>\n",
       "      <th>786362</th>\n",
       "      <td>732852505</td>\n",
       "      <td>732852505</td>\n",
       "      <td>50000.0</td>\n",
       "      <td>48666.83</td>\n",
       "      <td>2016-12-30T20:10:29</td>\n",
       "      <td>72.18</td>\n",
       "      <td>Uber</td>\n",
       "      <td>US</td>\n",
       "      <td>US</td>\n",
       "      <td>05</td>\n",
       "      <td>...</td>\n",
       "      <td>2012-08-23</td>\n",
       "      <td>2012-08-23</td>\n",
       "      <td>939</td>\n",
       "      <td>939</td>\n",
       "      <td>3388</td>\n",
       "      <td>PURCHASE</td>\n",
       "      <td>1333.17</td>\n",
       "      <td>False</td>\n",
       "      <td>False</td>\n",
       "      <td>False</td>\n",
       "    </tr>\n",
       "  </tbody>\n",
       "</table>\n",
       "<p>736363 rows × 23 columns</p>\n",
       "</div>"
      ],
      "text/plain": [
       "       accountNumber customerId  creditLimit  availableMoney  \\\n",
       "50000      246251253  246251253       5000.0          624.04   \n",
       "50001      246251253  246251253       5000.0          271.42   \n",
       "50002      246251253  246251253       5000.0         1677.46   \n",
       "50003      246251253  246251253       5000.0         1574.70   \n",
       "50004      246251253  246251253       5000.0         1533.20   \n",
       "...              ...        ...          ...             ...   \n",
       "786358     732852505  732852505      50000.0        48904.96   \n",
       "786359     732852505  732852505      50000.0        48785.04   \n",
       "786360     732852505  732852505      50000.0        48766.15   \n",
       "786361     732852505  732852505      50000.0        48716.72   \n",
       "786362     732852505  732852505      50000.0        48666.83   \n",
       "\n",
       "        transactionDateTime  transactionAmount            merchantName  \\\n",
       "50000   2016-01-20T19:00:48             352.62  Domino's Pizza #347016   \n",
       "50001   2016-01-20T19:37:11              22.96              amazon.com   \n",
       "50002   2016-01-20T19:45:23             102.76            discount.com   \n",
       "50003   2016-01-20T19:52:39              41.50     Shake Shack #332129   \n",
       "50004   2016-01-20T20:40:56             241.64  Dunkin' Donuts #237164   \n",
       "...                     ...                ...                     ...   \n",
       "786358  2016-12-22T18:44:12             119.92                    Lyft   \n",
       "786359  2016-12-25T16:20:34              18.89                hulu.com   \n",
       "786360  2016-12-27T15:46:24              49.43                    Lyft   \n",
       "786361  2016-12-29T00:30:55              49.89             walmart.com   \n",
       "786362  2016-12-30T20:10:29              72.18                    Uber   \n",
       "\n",
       "       acqCountry merchantCountryCode posEntryMode  ... accountOpenDate  \\\n",
       "50000          US                  US           02  ...      2014-10-02   \n",
       "50001         MEX                 MEX           02  ...      2014-10-02   \n",
       "50002          US                  US           02  ...      2014-10-02   \n",
       "50003          US                  US           05  ...      2014-10-02   \n",
       "50004          US                  US           09  ...      2014-10-02   \n",
       "...           ...                 ...          ...  ...             ...   \n",
       "786358         US                  US           90  ...      2012-08-23   \n",
       "786359         US                  US           09  ...      2012-08-23   \n",
       "786360         US                  US           02  ...      2012-08-23   \n",
       "786361         US                  US           09  ...      2012-08-23   \n",
       "786362         US                  US           05  ...      2012-08-23   \n",
       "\n",
       "       dateOfLastAddressChange cardCVV enteredCVV cardLast4Digits  \\\n",
       "50000               2016-01-19     455        455            6002   \n",
       "50001               2016-01-19     455        455            6002   \n",
       "50002               2016-01-19     455        455            6002   \n",
       "50003               2016-01-19     455        455            6002   \n",
       "50004               2016-01-19     455        455            6002   \n",
       "...                        ...     ...        ...             ...   \n",
       "786358              2012-08-23     936        936            3783   \n",
       "786359              2012-08-23     939        939            3388   \n",
       "786360              2012-08-23     936        936            3783   \n",
       "786361              2012-08-23     939        939            3388   \n",
       "786362              2012-08-23     939        939            3388   \n",
       "\n",
       "       transactionType currentBalance cardPresent expirationDateKeyInMatch  \\\n",
       "50000         PURCHASE        4375.96        True                    False   \n",
       "50001         PURCHASE        4728.58       False                    False   \n",
       "50002         PURCHASE        3322.54       False                    False   \n",
       "50003         PURCHASE        3425.30        True                    False   \n",
       "50004         PURCHASE        3466.80        True                    False   \n",
       "...                ...            ...         ...                      ...   \n",
       "786358        PURCHASE        1095.04       False                    False   \n",
       "786359        PURCHASE        1214.96       False                    False   \n",
       "786360        PURCHASE        1233.85       False                    False   \n",
       "786361        PURCHASE        1283.28       False                    False   \n",
       "786362        PURCHASE        1333.17       False                    False   \n",
       "\n",
       "        isFraud  \n",
       "50000     False  \n",
       "50001     False  \n",
       "50002     False  \n",
       "50003     False  \n",
       "50004     False  \n",
       "...         ...  \n",
       "786358    False  \n",
       "786359    False  \n",
       "786360    False  \n",
       "786361    False  \n",
       "786362    False  \n",
       "\n",
       "[736363 rows x 23 columns]"
      ]
     },
     "execution_count": 9,
     "metadata": {},
     "output_type": "execute_result"
    }
   ],
   "source": [
    "# check if successfuly dropped\n",
    "#  6 columns have been dropped\n",
    "transactions_dropped"
   ]
  },
  {
   "cell_type": "code",
   "execution_count": 10,
   "metadata": {},
   "outputs": [
    {
     "data": {
      "text/plain": [
       "accountNumber                  0\n",
       "customerId                     0\n",
       "creditLimit                    0\n",
       "availableMoney                 0\n",
       "transactionDateTime            0\n",
       "transactionAmount              0\n",
       "merchantName                   0\n",
       "acqCountry                  4298\n",
       "merchantCountryCode          679\n",
       "posEntryMode                3772\n",
       "posConditionCode             379\n",
       "merchantCategoryCode           0\n",
       "currentExpDate                 0\n",
       "accountOpenDate                0\n",
       "dateOfLastAddressChange        0\n",
       "cardCVV                        0\n",
       "enteredCVV                     0\n",
       "cardLast4Digits                0\n",
       "transactionType              656\n",
       "currentBalance                 0\n",
       "cardPresent                    0\n",
       "expirationDateKeyInMatch       0\n",
       "isFraud                        0\n",
       "dtype: int64"
      ]
     },
     "execution_count": 10,
     "metadata": {},
     "output_type": "execute_result"
    }
   ],
   "source": [
    "# check how many Nan values in each column\n",
    "transactions_dropped.isnull().sum()"
   ]
  },
  {
   "cell_type": "code",
   "execution_count": 11,
   "metadata": {},
   "outputs": [],
   "source": [
    "# drop rows with any Nan\n",
    "transactions_dropped = transactions_dropped.dropna(how = 'any', axis = 0)"
   ]
  },
  {
   "cell_type": "code",
   "execution_count": 12,
   "metadata": {
    "scrolled": true
   },
   "outputs": [
    {
     "data": {
      "text/plain": [
       "accountNumber               0\n",
       "customerId                  0\n",
       "creditLimit                 0\n",
       "availableMoney              0\n",
       "transactionDateTime         0\n",
       "transactionAmount           0\n",
       "merchantName                0\n",
       "acqCountry                  0\n",
       "merchantCountryCode         0\n",
       "posEntryMode                0\n",
       "posConditionCode            0\n",
       "merchantCategoryCode        0\n",
       "currentExpDate              0\n",
       "accountOpenDate             0\n",
       "dateOfLastAddressChange     0\n",
       "cardCVV                     0\n",
       "enteredCVV                  0\n",
       "cardLast4Digits             0\n",
       "transactionType             0\n",
       "currentBalance              0\n",
       "cardPresent                 0\n",
       "expirationDateKeyInMatch    0\n",
       "isFraud                     0\n",
       "dtype: int64"
      ]
     },
     "execution_count": 12,
     "metadata": {},
     "output_type": "execute_result"
    }
   ],
   "source": [
    "# check no Nan values on any row\n",
    "transactions_dropped.isnull().sum()"
   ]
  },
  {
   "cell_type": "markdown",
   "metadata": {},
   "source": [
    "## 4. Data Types Problem<a id='4._Data_Types'></a>\n",
    "\n"
   ]
  },
  {
   "cell_type": "markdown",
   "metadata": {},
   "source": [
    "Let's see if all the data are in a usable form"
   ]
  },
  {
   "cell_type": "code",
   "execution_count": 13,
   "metadata": {},
   "outputs": [
    {
     "data": {
      "text/plain": [
       "accountNumber                object\n",
       "customerId                   object\n",
       "creditLimit                 float64\n",
       "availableMoney              float64\n",
       "transactionDateTime          object\n",
       "transactionAmount           float64\n",
       "merchantName                 object\n",
       "acqCountry                   object\n",
       "merchantCountryCode          object\n",
       "posEntryMode                 object\n",
       "posConditionCode             object\n",
       "merchantCategoryCode         object\n",
       "currentExpDate               object\n",
       "accountOpenDate              object\n",
       "dateOfLastAddressChange      object\n",
       "cardCVV                      object\n",
       "enteredCVV                   object\n",
       "cardLast4Digits              object\n",
       "transactionType              object\n",
       "currentBalance              float64\n",
       "cardPresent                    bool\n",
       "expirationDateKeyInMatch       bool\n",
       "isFraud                        bool\n",
       "dtype: object"
      ]
     },
     "execution_count": 13,
     "metadata": {},
     "output_type": "execute_result"
    }
   ],
   "source": [
    "transactions_dropped.dtypes"
   ]
  },
  {
   "cell_type": "markdown",
   "metadata": {},
   "source": [
    "### 4.1 Change Datetime"
   ]
  },
  {
   "cell_type": "markdown",
   "metadata": {},
   "source": [
    "We can change date entries to date time objects. That is the column:\n",
    "1. transactionDateTime\n",
    "2. currentExpDate\n",
    "3. accountOpenDate\n",
    "4. dateOfLastAddressChange"
   ]
  },
  {
   "cell_type": "code",
   "execution_count": 14,
   "metadata": {},
   "outputs": [],
   "source": [
    "columns_to_change = ['transactionDateTime','currentExpDate','accountOpenDate','dateOfLastAddressChange']\n",
    "for column in columns_to_change:\n",
    "#     transactions_dropped.loc[:,column] = pd.to_datetime(transactions_dropped[column])\n",
    "    transactions_dropped.loc[:,column] = pd.to_datetime(transactions_dropped[column].copy())\n",
    "    \n",
    "    \n",
    "# pd.to_datetime takes series as argument\n",
    "# dont need to do loc on the assignment RHS\n",
    "    "
   ]
  },
  {
   "cell_type": "code",
   "execution_count": 15,
   "metadata": {},
   "outputs": [],
   "source": [
    "# Cannot do:\n",
    "\n",
    "# 1. transactions_dropped.loc[:,column] = transactions_dropped.loc[:,column].apply(pd.to_datetime, errors = 'coerce')\n",
    "\n",
    "# 2. for column in columns_to_change:\n",
    "#     transactions_dropped[column] = pd.to_datetime(transactions_dropped[column])\n",
    "\n",
    "#     transactions_dropped.loc[:,column] = pd.to_datetime(transactions_dropped.loc[:,column])\n",
    "\n",
    "# the key is put pd.to_datetime at the front. and also do .loc"
   ]
  },
  {
   "cell_type": "code",
   "execution_count": 16,
   "metadata": {},
   "outputs": [
    {
     "data": {
      "text/plain": [
       "accountNumber                       object\n",
       "customerId                          object\n",
       "creditLimit                        float64\n",
       "availableMoney                     float64\n",
       "transactionDateTime         datetime64[ns]\n",
       "transactionAmount                  float64\n",
       "merchantName                        object\n",
       "acqCountry                          object\n",
       "merchantCountryCode                 object\n",
       "posEntryMode                        object\n",
       "posConditionCode                    object\n",
       "merchantCategoryCode                object\n",
       "currentExpDate              datetime64[ns]\n",
       "accountOpenDate             datetime64[ns]\n",
       "dateOfLastAddressChange     datetime64[ns]\n",
       "cardCVV                             object\n",
       "enteredCVV                          object\n",
       "cardLast4Digits                     object\n",
       "transactionType                     object\n",
       "currentBalance                     float64\n",
       "cardPresent                           bool\n",
       "expirationDateKeyInMatch              bool\n",
       "isFraud                               bool\n",
       "dtype: object"
      ]
     },
     "execution_count": 16,
     "metadata": {},
     "output_type": "execute_result"
    }
   ],
   "source": [
    "transactions_dropped.dtypes"
   ]
  },
  {
   "cell_type": "markdown",
   "metadata": {},
   "source": [
    "## 5. Profiling<a id='5._Profiling'></a>"
   ]
  },
  {
   "cell_type": "code",
   "execution_count": 17,
   "metadata": {},
   "outputs": [],
   "source": [
    "# profile = ProfileReport(transactions_dropped, title = 'Profile Report')"
   ]
  },
  {
   "cell_type": "code",
   "execution_count": 18,
   "metadata": {},
   "outputs": [],
   "source": [
    "# profile"
   ]
  },
  {
   "cell_type": "markdown",
   "metadata": {},
   "source": [
    "## 5 Profiling Summary"
   ]
  },
  {
   "cell_type": "markdown",
   "metadata": {},
   "source": [
    "1. Total Fraud: \n",
    "\n",
    "    - Only 11513 out of 756363 of transactions are fraud, which means only 1.5% are fraudulent. This is very small.\n",
    "\n",
    "2. Date type:\n",
    "\n",
    "    - Everything looks normal: Transaction starts from January 2016 to December 30th\n",
    "\n",
    "\n",
    "3. Categorical:\n",
    "\n",
    "    - Account number\n",
    "    - customerID: looks like its identical to account number\n",
    "    - transaction type: Does fraud occur in transaction type other than purchase ? if not, we can get rid of it\n",
    "    - merchantName: check for duplicates\n",
    "    - cardLast4Digits: some only has 2 digits, does this mean fraud?\n",
    "\n",
    "\n",
    "4. Numerical:\n",
    "\n",
    "    - Balance:\n",
    "    Need to deal with zeros and extreme values\n",
    "\n",
    "    - Transaction amount: \n",
    "There seems to be a high correlation between transaction amount and fraudulence\n"
   ]
  },
  {
   "cell_type": "markdown",
   "metadata": {},
   "source": [
    "## 6 Drop columns<a id='6._Drop_columns'></a>"
   ]
  },
  {
   "cell_type": "markdown",
   "metadata": {},
   "source": [
    "From the above profiling it seems like there are no duplicate rows, but lets check for duplicate columns"
   ]
  },
  {
   "cell_type": "markdown",
   "metadata": {},
   "source": [
    "### 6.1 Duplicate column"
   ]
  },
  {
   "cell_type": "markdown",
   "metadata": {},
   "source": [
    "1. Check if customer Id is the same as account number"
   ]
  },
  {
   "cell_type": "code",
   "execution_count": 19,
   "metadata": {},
   "outputs": [
    {
     "data": {
      "text/plain": [
       "True    727282\n",
       "dtype: int64"
      ]
     },
     "execution_count": 19,
     "metadata": {},
     "output_type": "execute_result"
    }
   ],
   "source": [
    "(transactions_dropped['customerId']==transactions_dropped['accountNumber']).value_counts()"
   ]
  },
  {
   "cell_type": "markdown",
   "metadata": {},
   "source": [
    "The true entry count is the same as total number of rows, they are the same. so let's remove them"
   ]
  },
  {
   "cell_type": "code",
   "execution_count": 20,
   "metadata": {},
   "outputs": [],
   "source": [
    "transactions_dropped = transactions_dropped.drop(columns='customerId')"
   ]
  },
  {
   "cell_type": "markdown",
   "metadata": {},
   "source": [
    "2. Check if acqCountry is the same as merchant countrycode"
   ]
  },
  {
   "cell_type": "code",
   "execution_count": 21,
   "metadata": {},
   "outputs": [
    {
     "data": {
      "text/plain": [
       "True     727218\n",
       "False        64\n",
       "dtype: int64"
      ]
     },
     "execution_count": 21,
     "metadata": {},
     "output_type": "execute_result"
    }
   ],
   "source": [
    "(transactions_dropped['acqCountry']==transactions_dropped['merchantCountryCode']).value_counts()"
   ]
  },
  {
   "cell_type": "markdown",
   "metadata": {},
   "source": [
    "not necessarily the same. so lets not remove them"
   ]
  },
  {
   "cell_type": "markdown",
   "metadata": {},
   "source": [
    "3. Check if cardCVV is the same as enteredCVV"
   ]
  },
  {
   "cell_type": "code",
   "execution_count": 22,
   "metadata": {},
   "outputs": [
    {
     "data": {
      "text/plain": [
       "(6487, 22)"
      ]
     },
     "execution_count": 22,
     "metadata": {},
     "output_type": "execute_result"
    }
   ],
   "source": [
    "transactions_dropped[(transactions_dropped['cardCVV']!=transactions_dropped['enteredCVV'])].shape"
   ]
  },
  {
   "cell_type": "markdown",
   "metadata": {},
   "source": [
    "there are 6676 unmatched CVV. We cannot drop them"
   ]
  },
  {
   "cell_type": "markdown",
   "metadata": {},
   "source": [
    "4. It may be useful to create a column of 'CVV match'"
   ]
  },
  {
   "cell_type": "code",
   "execution_count": 23,
   "metadata": {},
   "outputs": [],
   "source": [
    "transactions_dropped['CVVMatch'] = transactions_dropped['cardCVV'] == transactions_dropped['enteredCVV']\n"
   ]
  },
  {
   "cell_type": "markdown",
   "metadata": {},
   "source": [
    "Drop enteredCVV and card CVV since we already have matched CVV"
   ]
  },
  {
   "cell_type": "code",
   "execution_count": 24,
   "metadata": {},
   "outputs": [],
   "source": [
    "transactions_dropped = transactions_dropped.drop(columns=['enteredCVV','cardCVV'])"
   ]
  },
  {
   "cell_type": "markdown",
   "metadata": {},
   "source": [
    "### 6.2 Useless column"
   ]
  },
  {
   "cell_type": "markdown",
   "metadata": {},
   "source": [
    "reset index"
   ]
  },
  {
   "cell_type": "code",
   "execution_count": 25,
   "metadata": {
    "scrolled": true
   },
   "outputs": [
    {
     "data": {
      "text/html": [
       "<div>\n",
       "<style scoped>\n",
       "    .dataframe tbody tr th:only-of-type {\n",
       "        vertical-align: middle;\n",
       "    }\n",
       "\n",
       "    .dataframe tbody tr th {\n",
       "        vertical-align: top;\n",
       "    }\n",
       "\n",
       "    .dataframe thead th {\n",
       "        text-align: right;\n",
       "    }\n",
       "</style>\n",
       "<table border=\"1\" class=\"dataframe\">\n",
       "  <thead>\n",
       "    <tr style=\"text-align: right;\">\n",
       "      <th></th>\n",
       "      <th>accountNumber</th>\n",
       "      <th>creditLimit</th>\n",
       "      <th>availableMoney</th>\n",
       "      <th>transactionDateTime</th>\n",
       "      <th>transactionAmount</th>\n",
       "      <th>merchantName</th>\n",
       "      <th>acqCountry</th>\n",
       "      <th>merchantCountryCode</th>\n",
       "      <th>posEntryMode</th>\n",
       "      <th>posConditionCode</th>\n",
       "      <th>...</th>\n",
       "      <th>currentExpDate</th>\n",
       "      <th>accountOpenDate</th>\n",
       "      <th>dateOfLastAddressChange</th>\n",
       "      <th>cardLast4Digits</th>\n",
       "      <th>transactionType</th>\n",
       "      <th>currentBalance</th>\n",
       "      <th>cardPresent</th>\n",
       "      <th>expirationDateKeyInMatch</th>\n",
       "      <th>isFraud</th>\n",
       "      <th>CVVMatch</th>\n",
       "    </tr>\n",
       "  </thead>\n",
       "  <tbody>\n",
       "    <tr>\n",
       "      <th>0</th>\n",
       "      <td>246251253</td>\n",
       "      <td>5000.0</td>\n",
       "      <td>624.04</td>\n",
       "      <td>2016-01-20 19:00:48</td>\n",
       "      <td>352.62</td>\n",
       "      <td>Domino's Pizza #347016</td>\n",
       "      <td>US</td>\n",
       "      <td>US</td>\n",
       "      <td>02</td>\n",
       "      <td>01</td>\n",
       "      <td>...</td>\n",
       "      <td>2029-02-01</td>\n",
       "      <td>2014-10-02</td>\n",
       "      <td>2016-01-19</td>\n",
       "      <td>6002</td>\n",
       "      <td>PURCHASE</td>\n",
       "      <td>4375.96</td>\n",
       "      <td>True</td>\n",
       "      <td>False</td>\n",
       "      <td>False</td>\n",
       "      <td>True</td>\n",
       "    </tr>\n",
       "    <tr>\n",
       "      <th>1</th>\n",
       "      <td>246251253</td>\n",
       "      <td>5000.0</td>\n",
       "      <td>271.42</td>\n",
       "      <td>2016-01-20 19:37:11</td>\n",
       "      <td>22.96</td>\n",
       "      <td>amazon.com</td>\n",
       "      <td>MEX</td>\n",
       "      <td>MEX</td>\n",
       "      <td>02</td>\n",
       "      <td>01</td>\n",
       "      <td>...</td>\n",
       "      <td>2021-07-01</td>\n",
       "      <td>2014-10-02</td>\n",
       "      <td>2016-01-19</td>\n",
       "      <td>6002</td>\n",
       "      <td>PURCHASE</td>\n",
       "      <td>4728.58</td>\n",
       "      <td>False</td>\n",
       "      <td>False</td>\n",
       "      <td>False</td>\n",
       "      <td>True</td>\n",
       "    </tr>\n",
       "    <tr>\n",
       "      <th>2</th>\n",
       "      <td>246251253</td>\n",
       "      <td>5000.0</td>\n",
       "      <td>1677.46</td>\n",
       "      <td>2016-01-20 19:45:23</td>\n",
       "      <td>102.76</td>\n",
       "      <td>discount.com</td>\n",
       "      <td>US</td>\n",
       "      <td>US</td>\n",
       "      <td>02</td>\n",
       "      <td>08</td>\n",
       "      <td>...</td>\n",
       "      <td>2023-03-01</td>\n",
       "      <td>2014-10-02</td>\n",
       "      <td>2016-01-19</td>\n",
       "      <td>6002</td>\n",
       "      <td>PURCHASE</td>\n",
       "      <td>3322.54</td>\n",
       "      <td>False</td>\n",
       "      <td>False</td>\n",
       "      <td>False</td>\n",
       "      <td>True</td>\n",
       "    </tr>\n",
       "    <tr>\n",
       "      <th>3</th>\n",
       "      <td>246251253</td>\n",
       "      <td>5000.0</td>\n",
       "      <td>1574.70</td>\n",
       "      <td>2016-01-20 19:52:39</td>\n",
       "      <td>41.50</td>\n",
       "      <td>Shake Shack #332129</td>\n",
       "      <td>US</td>\n",
       "      <td>US</td>\n",
       "      <td>05</td>\n",
       "      <td>01</td>\n",
       "      <td>...</td>\n",
       "      <td>2027-12-01</td>\n",
       "      <td>2014-10-02</td>\n",
       "      <td>2016-01-19</td>\n",
       "      <td>6002</td>\n",
       "      <td>PURCHASE</td>\n",
       "      <td>3425.30</td>\n",
       "      <td>True</td>\n",
       "      <td>False</td>\n",
       "      <td>False</td>\n",
       "      <td>True</td>\n",
       "    </tr>\n",
       "    <tr>\n",
       "      <th>4</th>\n",
       "      <td>246251253</td>\n",
       "      <td>5000.0</td>\n",
       "      <td>1533.20</td>\n",
       "      <td>2016-01-20 20:40:56</td>\n",
       "      <td>241.64</td>\n",
       "      <td>Dunkin' Donuts #237164</td>\n",
       "      <td>US</td>\n",
       "      <td>US</td>\n",
       "      <td>09</td>\n",
       "      <td>01</td>\n",
       "      <td>...</td>\n",
       "      <td>2022-09-01</td>\n",
       "      <td>2014-10-02</td>\n",
       "      <td>2016-01-19</td>\n",
       "      <td>6002</td>\n",
       "      <td>PURCHASE</td>\n",
       "      <td>3466.80</td>\n",
       "      <td>True</td>\n",
       "      <td>False</td>\n",
       "      <td>False</td>\n",
       "      <td>True</td>\n",
       "    </tr>\n",
       "    <tr>\n",
       "      <th>...</th>\n",
       "      <td>...</td>\n",
       "      <td>...</td>\n",
       "      <td>...</td>\n",
       "      <td>...</td>\n",
       "      <td>...</td>\n",
       "      <td>...</td>\n",
       "      <td>...</td>\n",
       "      <td>...</td>\n",
       "      <td>...</td>\n",
       "      <td>...</td>\n",
       "      <td>...</td>\n",
       "      <td>...</td>\n",
       "      <td>...</td>\n",
       "      <td>...</td>\n",
       "      <td>...</td>\n",
       "      <td>...</td>\n",
       "      <td>...</td>\n",
       "      <td>...</td>\n",
       "      <td>...</td>\n",
       "      <td>...</td>\n",
       "      <td>...</td>\n",
       "    </tr>\n",
       "    <tr>\n",
       "      <th>727277</th>\n",
       "      <td>732852505</td>\n",
       "      <td>50000.0</td>\n",
       "      <td>48904.96</td>\n",
       "      <td>2016-12-22 18:44:12</td>\n",
       "      <td>119.92</td>\n",
       "      <td>Lyft</td>\n",
       "      <td>US</td>\n",
       "      <td>US</td>\n",
       "      <td>90</td>\n",
       "      <td>01</td>\n",
       "      <td>...</td>\n",
       "      <td>2022-12-01</td>\n",
       "      <td>2012-08-23</td>\n",
       "      <td>2012-08-23</td>\n",
       "      <td>3783</td>\n",
       "      <td>PURCHASE</td>\n",
       "      <td>1095.04</td>\n",
       "      <td>False</td>\n",
       "      <td>False</td>\n",
       "      <td>False</td>\n",
       "      <td>True</td>\n",
       "    </tr>\n",
       "    <tr>\n",
       "      <th>727278</th>\n",
       "      <td>732852505</td>\n",
       "      <td>50000.0</td>\n",
       "      <td>48785.04</td>\n",
       "      <td>2016-12-25 16:20:34</td>\n",
       "      <td>18.89</td>\n",
       "      <td>hulu.com</td>\n",
       "      <td>US</td>\n",
       "      <td>US</td>\n",
       "      <td>09</td>\n",
       "      <td>01</td>\n",
       "      <td>...</td>\n",
       "      <td>2023-08-01</td>\n",
       "      <td>2012-08-23</td>\n",
       "      <td>2012-08-23</td>\n",
       "      <td>3388</td>\n",
       "      <td>PURCHASE</td>\n",
       "      <td>1214.96</td>\n",
       "      <td>False</td>\n",
       "      <td>False</td>\n",
       "      <td>False</td>\n",
       "      <td>True</td>\n",
       "    </tr>\n",
       "    <tr>\n",
       "      <th>727279</th>\n",
       "      <td>732852505</td>\n",
       "      <td>50000.0</td>\n",
       "      <td>48766.15</td>\n",
       "      <td>2016-12-27 15:46:24</td>\n",
       "      <td>49.43</td>\n",
       "      <td>Lyft</td>\n",
       "      <td>US</td>\n",
       "      <td>US</td>\n",
       "      <td>02</td>\n",
       "      <td>01</td>\n",
       "      <td>...</td>\n",
       "      <td>2025-08-01</td>\n",
       "      <td>2012-08-23</td>\n",
       "      <td>2012-08-23</td>\n",
       "      <td>3783</td>\n",
       "      <td>PURCHASE</td>\n",
       "      <td>1233.85</td>\n",
       "      <td>False</td>\n",
       "      <td>False</td>\n",
       "      <td>False</td>\n",
       "      <td>True</td>\n",
       "    </tr>\n",
       "    <tr>\n",
       "      <th>727280</th>\n",
       "      <td>732852505</td>\n",
       "      <td>50000.0</td>\n",
       "      <td>48716.72</td>\n",
       "      <td>2016-12-29 00:30:55</td>\n",
       "      <td>49.89</td>\n",
       "      <td>walmart.com</td>\n",
       "      <td>US</td>\n",
       "      <td>US</td>\n",
       "      <td>09</td>\n",
       "      <td>99</td>\n",
       "      <td>...</td>\n",
       "      <td>2022-07-01</td>\n",
       "      <td>2012-08-23</td>\n",
       "      <td>2012-08-23</td>\n",
       "      <td>3388</td>\n",
       "      <td>PURCHASE</td>\n",
       "      <td>1283.28</td>\n",
       "      <td>False</td>\n",
       "      <td>False</td>\n",
       "      <td>False</td>\n",
       "      <td>True</td>\n",
       "    </tr>\n",
       "    <tr>\n",
       "      <th>727281</th>\n",
       "      <td>732852505</td>\n",
       "      <td>50000.0</td>\n",
       "      <td>48666.83</td>\n",
       "      <td>2016-12-30 20:10:29</td>\n",
       "      <td>72.18</td>\n",
       "      <td>Uber</td>\n",
       "      <td>US</td>\n",
       "      <td>US</td>\n",
       "      <td>05</td>\n",
       "      <td>01</td>\n",
       "      <td>...</td>\n",
       "      <td>2024-05-01</td>\n",
       "      <td>2012-08-23</td>\n",
       "      <td>2012-08-23</td>\n",
       "      <td>3388</td>\n",
       "      <td>PURCHASE</td>\n",
       "      <td>1333.17</td>\n",
       "      <td>False</td>\n",
       "      <td>False</td>\n",
       "      <td>False</td>\n",
       "      <td>True</td>\n",
       "    </tr>\n",
       "  </tbody>\n",
       "</table>\n",
       "<p>727282 rows × 21 columns</p>\n",
       "</div>"
      ],
      "text/plain": [
       "       accountNumber  creditLimit  availableMoney transactionDateTime  \\\n",
       "0          246251253       5000.0          624.04 2016-01-20 19:00:48   \n",
       "1          246251253       5000.0          271.42 2016-01-20 19:37:11   \n",
       "2          246251253       5000.0         1677.46 2016-01-20 19:45:23   \n",
       "3          246251253       5000.0         1574.70 2016-01-20 19:52:39   \n",
       "4          246251253       5000.0         1533.20 2016-01-20 20:40:56   \n",
       "...              ...          ...             ...                 ...   \n",
       "727277     732852505      50000.0        48904.96 2016-12-22 18:44:12   \n",
       "727278     732852505      50000.0        48785.04 2016-12-25 16:20:34   \n",
       "727279     732852505      50000.0        48766.15 2016-12-27 15:46:24   \n",
       "727280     732852505      50000.0        48716.72 2016-12-29 00:30:55   \n",
       "727281     732852505      50000.0        48666.83 2016-12-30 20:10:29   \n",
       "\n",
       "        transactionAmount            merchantName acqCountry  \\\n",
       "0                  352.62  Domino's Pizza #347016         US   \n",
       "1                   22.96              amazon.com        MEX   \n",
       "2                  102.76            discount.com         US   \n",
       "3                   41.50     Shake Shack #332129         US   \n",
       "4                  241.64  Dunkin' Donuts #237164         US   \n",
       "...                   ...                     ...        ...   \n",
       "727277             119.92                    Lyft         US   \n",
       "727278              18.89                hulu.com         US   \n",
       "727279              49.43                    Lyft         US   \n",
       "727280              49.89             walmart.com         US   \n",
       "727281              72.18                    Uber         US   \n",
       "\n",
       "       merchantCountryCode posEntryMode posConditionCode  ... currentExpDate  \\\n",
       "0                       US           02               01  ...     2029-02-01   \n",
       "1                      MEX           02               01  ...     2021-07-01   \n",
       "2                       US           02               08  ...     2023-03-01   \n",
       "3                       US           05               01  ...     2027-12-01   \n",
       "4                       US           09               01  ...     2022-09-01   \n",
       "...                    ...          ...              ...  ...            ...   \n",
       "727277                  US           90               01  ...     2022-12-01   \n",
       "727278                  US           09               01  ...     2023-08-01   \n",
       "727279                  US           02               01  ...     2025-08-01   \n",
       "727280                  US           09               99  ...     2022-07-01   \n",
       "727281                  US           05               01  ...     2024-05-01   \n",
       "\n",
       "       accountOpenDate dateOfLastAddressChange cardLast4Digits  \\\n",
       "0           2014-10-02              2016-01-19            6002   \n",
       "1           2014-10-02              2016-01-19            6002   \n",
       "2           2014-10-02              2016-01-19            6002   \n",
       "3           2014-10-02              2016-01-19            6002   \n",
       "4           2014-10-02              2016-01-19            6002   \n",
       "...                ...                     ...             ...   \n",
       "727277      2012-08-23              2012-08-23            3783   \n",
       "727278      2012-08-23              2012-08-23            3388   \n",
       "727279      2012-08-23              2012-08-23            3783   \n",
       "727280      2012-08-23              2012-08-23            3388   \n",
       "727281      2012-08-23              2012-08-23            3388   \n",
       "\n",
       "       transactionType currentBalance  cardPresent  expirationDateKeyInMatch  \\\n",
       "0             PURCHASE        4375.96         True                     False   \n",
       "1             PURCHASE        4728.58        False                     False   \n",
       "2             PURCHASE        3322.54        False                     False   \n",
       "3             PURCHASE        3425.30         True                     False   \n",
       "4             PURCHASE        3466.80         True                     False   \n",
       "...                ...            ...          ...                       ...   \n",
       "727277        PURCHASE        1095.04        False                     False   \n",
       "727278        PURCHASE        1214.96        False                     False   \n",
       "727279        PURCHASE        1233.85        False                     False   \n",
       "727280        PURCHASE        1283.28        False                     False   \n",
       "727281        PURCHASE        1333.17        False                     False   \n",
       "\n",
       "        isFraud  CVVMatch  \n",
       "0         False      True  \n",
       "1         False      True  \n",
       "2         False      True  \n",
       "3         False      True  \n",
       "4         False      True  \n",
       "...         ...       ...  \n",
       "727277    False      True  \n",
       "727278    False      True  \n",
       "727279    False      True  \n",
       "727280    False      True  \n",
       "727281    False      True  \n",
       "\n",
       "[727282 rows x 21 columns]"
      ]
     },
     "execution_count": 25,
     "metadata": {},
     "output_type": "execute_result"
    }
   ],
   "source": [
    "transactions_dropped.reset_index(drop = True)"
   ]
  },
  {
   "cell_type": "code",
   "execution_count": 26,
   "metadata": {},
   "outputs": [
    {
     "data": {
      "text/plain": [
       "accountNumber                object\n",
       "customerId                   object\n",
       "creditLimit                 float64\n",
       "availableMoney              float64\n",
       "transactionDateTime          object\n",
       "transactionAmount           float64\n",
       "merchantName                 object\n",
       "acqCountry                   object\n",
       "merchantCountryCode          object\n",
       "posEntryMode                 object\n",
       "posConditionCode             object\n",
       "merchantCategoryCode         object\n",
       "currentExpDate               object\n",
       "accountOpenDate              object\n",
       "dateOfLastAddressChange      object\n",
       "cardCVV                      object\n",
       "enteredCVV                   object\n",
       "cardLast4Digits              object\n",
       "transactionType              object\n",
       "echoBuffer                   object\n",
       "currentBalance              float64\n",
       "merchantCity                 object\n",
       "merchantState                object\n",
       "merchantZip                  object\n",
       "cardPresent                    bool\n",
       "posOnPremises                object\n",
       "recurringAuthInd             object\n",
       "expirationDateKeyInMatch       bool\n",
       "isFraud                        bool\n",
       "dtype: object"
      ]
     },
     "execution_count": 26,
     "metadata": {},
     "output_type": "execute_result"
    }
   ],
   "source": [
    "transactions.dtypes"
   ]
  },
  {
   "cell_type": "markdown",
   "metadata": {},
   "source": [
    "## 7 Explore Data Entries<a id='7._Explore_Data'></a>"
   ]
  },
  {
   "cell_type": "markdown",
   "metadata": {},
   "source": [
    "### 7.1 Datetime Features <a id='7._Date_Time'></a>\n",
    "\n"
   ]
  },
  {
   "cell_type": "markdown",
   "metadata": {},
   "source": [
    "#### 7.1.1 Check if it has healthy distribution. no outliers\n",
    "\n",
    "What do I need to change about date time ?"
   ]
  },
  {
   "cell_type": "code",
   "execution_count": 27,
   "metadata": {},
   "outputs": [],
   "source": [
    "# fig, axs = plt.subplots(3,2,figsize = (15,15))\n",
    "fraud_transactions = transactions_dropped[transactions_dropped.isFraud == True]\n",
    "fraud_transactions\n",
    "fraud_transactions= fraud_transactions.sort_values('transactionDateTime',ascending=True)\n",
    "transactions= transactions_dropped.sort_values('transactionDateTime',ascending=True)\n",
    "\n"
   ]
  },
  {
   "cell_type": "code",
   "execution_count": 28,
   "metadata": {},
   "outputs": [
    {
     "data": {
      "image/png": "[encoded data removed]",
      "text/plain": [
       "<Figure size 1080x1080 with 6 Axes>"
      ]
     },
     "metadata": {
      "needs_background": "light"
     },
     "output_type": "display_data"
    }
   ],
   "source": [
    "fig, axs = plt.subplots(3,2,figsize = (15,15))\n",
    "\n",
    "# Fraud (1st column)\n",
    "axs[0][0].hist(fraud_transactions['transactionDateTime'], bins = 20)\n",
    "axs[0][0].set_xlabel('Transaction Date')\n",
    "axs[0][0].set_title('Fraud')\n",
    "\n",
    "axs[1][0].hist(fraud_transactions['dateOfLastAddressChange'], bins = 20)\n",
    "axs[1][0].set_xlabel('Last Date of Address Change')\n",
    "axs[1][0].set_title('Fraud')\n",
    "\n",
    "\n",
    "axs[2][0].hist(fraud_transactions['accountOpenDate'], bins = 20)\n",
    "axs[2][0].set_xlabel('accountOpenDate')\n",
    "axs[2][0].set_title('Fraud')\n",
    "\n",
    "# # Not Fraud (2nd Column)\n",
    "axs[0][1].hist(transactions['transactionDateTime'], bins = 50)\n",
    "axs[0][1].set_xlabel('Transaction Date')\n",
    "axs[0][1].set_title('Not Fraud')\n",
    "\n",
    "axs[1][1].hist(transactions['dateOfLastAddressChange'], bins = 50)\n",
    "axs[1][1].set_xlabel('Last Date of Address Change')\n",
    "axs[1][1].set_title('Not Fraud')\n",
    "\n",
    "axs[2][1].hist(transactions['accountOpenDate'], bins = 50)\n",
    "axs[2][1].set_xlabel('accountOpenDate')\n",
    "axs[2][1].set_title('Not Fraud')\n",
    "\n",
    "# Rotate x value \n",
    "for ax in fig.axes:\n",
    "    plt.sca(ax)\n",
    "    plt.xticks(rotation =90)\n",
    "    \n",
    "plt.subplots_adjust(hspace = 1)"
   ]
  },
  {
   "cell_type": "markdown",
   "metadata": {},
   "source": [
    "Looks like a healthy distribution no outliers. Transaction is between January 2016 to Dec 2016"
   ]
  },
  {
   "cell_type": "markdown",
   "metadata": {},
   "source": [
    "### 7.2 Categorical Features <a id='7._Categorical'></a>\n",
    "\n"
   ]
  },
  {
   "cell_type": "markdown",
   "metadata": {},
   "source": [
    "#### 7.2.1 Merchant Name\n",
    "\n",
    "Check if there is any duplicate that are mistype"
   ]
  },
  {
   "cell_type": "code",
   "execution_count": 29,
   "metadata": {
    "scrolled": true
   },
   "outputs": [
    {
     "data": {
      "text/plain": [
       "Lyft                             690\n",
       "ebay.com                         604\n",
       "Fresh Flowers                    516\n",
       "Uber                             422\n",
       "cheapfast.com                    418\n",
       "sears.com                        383\n",
       "walmart.com                      373\n",
       "oldnavy.com                      359\n",
       "staples.com                      354\n",
       "alibaba.com                      352\n",
       "amazon.com                       347\n",
       "gap.com                          338\n",
       "apple.com                        329\n",
       "target.com                       324\n",
       "discount.com                     313\n",
       "American Airlines                287\n",
       "Blue Mountain Online Services    202\n",
       "Fresh eCards                     199\n",
       "Next Day Online Services         158\n",
       "Blue Mountain eCards             114\n",
       "Mobile eCards                    101\n",
       "Fresh Online Services            100\n",
       "Next Day eCards                   90\n",
       "Delta Airlines                    87\n",
       "Regal Cinemas #05791              83\n",
       "EZ Putt Putt #69446               69\n",
       "EZ Putt Putt #551896              69\n",
       "EZ Putt Putt #40513               65\n",
       "Regal Cinemas #729464             65\n",
       "Regal Cinemas #276341             64\n",
       "EZ Putt Putt #804489              60\n",
       "EZ Putt Putt #755869              60\n",
       "United Airlines                   57\n",
       "EZ Putt Putt #240241              56\n",
       "EZ Putt Putt #503815              47\n",
       "Convenient Auto Services          43\n",
       "EZ Putt Putt #982199              43\n",
       "Virgin Airlines                   36\n",
       "AMC #692956                       35\n",
       "Icelandic Airlines                35\n",
       "Dinosaur Restaurant               32\n",
       "AMC #128743                       28\n",
       "Best Pub                          27\n",
       "AMC #79863                        26\n",
       "San Francisco Post                26\n",
       "AMC #74121                        26\n",
       "AMC #145832                       25\n",
       "Washington Tire                   25\n",
       "NY BBQ                            25\n",
       "ethanallen.com                    24\n",
       "Name: merchantName, dtype: int64"
      ]
     },
     "execution_count": 29,
     "metadata": {},
     "output_type": "execute_result"
    }
   ],
   "source": [
    "# check the top fraud merchant names\n",
    "fraud_transactions.merchantName.value_counts().head(50)"
   ]
  },
  {
   "cell_type": "markdown",
   "metadata": {},
   "source": [
    "\n",
    "\n"
   ]
  },
  {
   "cell_type": "markdown",
   "metadata": {},
   "source": [
    "Looks like there are many branches of the same company. Should we combine them together ?\n",
    "Lets check how many EZ Putt Putt are there\n",
    "\n"
   ]
  },
  {
   "cell_type": "code",
   "execution_count": 30,
   "metadata": {},
   "outputs": [
    {
     "data": {
      "text/plain": [
       "EZ Putt Putt #69446     69\n",
       "EZ Putt Putt #551896    69\n",
       "EZ Putt Putt #40513     65\n",
       "EZ Putt Putt #804489    60\n",
       "EZ Putt Putt #755869    60\n",
       "EZ Putt Putt #240241    56\n",
       "EZ Putt Putt #503815    47\n",
       "EZ Putt Putt #982199    43\n",
       "Name: merchantName, dtype: int64"
      ]
     },
     "execution_count": 30,
     "metadata": {},
     "output_type": "execute_result"
    }
   ],
   "source": [
    "fraud_transactions[fraud_transactions.merchantName.str.contains('EZ') == True].merchantName.value_counts()"
   ]
  },
  {
   "cell_type": "code",
   "execution_count": 31,
   "metadata": {},
   "outputs": [
    {
     "data": {
      "text/plain": [
       "AMC #692956    35\n",
       "AMC #128743    28\n",
       "AMC #79863     26\n",
       "AMC #74121     26\n",
       "AMC #145832    25\n",
       "AMC #606218    22\n",
       "AMC #724446    19\n",
       "AMC #191138    19\n",
       "AMC #706324    17\n",
       "AMC #552863    17\n",
       "Name: merchantName, dtype: int64"
      ]
     },
     "execution_count": 31,
     "metadata": {},
     "output_type": "execute_result"
    }
   ],
   "source": [
    "fraud_transactions[fraud_transactions.merchantName.str.contains('AMC') == True].merchantName.value_counts()"
   ]
  },
  {
   "cell_type": "code",
   "execution_count": 32,
   "metadata": {},
   "outputs": [
    {
     "data": {
      "text/plain": [
       "Hardee's #584914    3\n",
       "Hardee's #589037    2\n",
       "Hardee's #259223    2\n",
       "Hardee's #229101    2\n",
       "Hardee's #601816    2\n",
       "Hardee's #941387    2\n",
       "Hardee's #254356    2\n",
       "Hardee's #918765    2\n",
       "Hardee's #49071     1\n",
       "Hardee's #852712    1\n",
       "Hardee's #854553    1\n",
       "Hardee's #978815    1\n",
       "Hardee's #245522    1\n",
       "Hardee's #998351    1\n",
       "Hardee's #97825     1\n",
       "Hardee's #129117    1\n",
       "Hardee's #431398    1\n",
       "Hardee's #385283    1\n",
       "Hardee's #941439    1\n",
       "Hardee's #745531    1\n",
       "Hardee's #187642    1\n",
       "Hardee's #283538    1\n",
       "Hardee's #519881    1\n",
       "Hardee's #186774    1\n",
       "Hardee's #940832    1\n",
       "Hardee's #533765    1\n",
       "Hardee's #509359    1\n",
       "Hardee's #696425    1\n",
       "Hardee's #377180    1\n",
       "Hardee's #862001    1\n",
       "Hardee's #102912    1\n",
       "Hardee's #510141    1\n",
       "Hardee's #415826    1\n",
       "Hardee's #814735    1\n",
       "Name: merchantName, dtype: int64"
      ]
     },
     "execution_count": 32,
     "metadata": {},
     "output_type": "execute_result"
    }
   ],
   "source": [
    "fraud_transactions[fraud_transactions.merchantName.str.contains('Hardee') == True].merchantName.value_counts()"
   ]
  },
  {
   "cell_type": "markdown",
   "metadata": {},
   "source": [
    "Lets get rid of this column and possibly put all franchise under one name"
   ]
  },
  {
   "cell_type": "code",
   "execution_count": 33,
   "metadata": {},
   "outputs": [
    {
     "data": {
      "text/plain": [
       "False    727282\n",
       "Name: merchantName, dtype: int64"
      ]
     },
     "execution_count": 33,
     "metadata": {},
     "output_type": "execute_result"
    }
   ],
   "source": [
    "separator = '#'\n",
    "transactions['merchantName'] = [merchant_name.split(separator,1)[0].rstrip() for merchant_name in transactions['merchantName']]\n",
    "# for each merchant name in transaction, split them in two using separator '#'. take the first element of the split\n",
    "# strip the last empty space\n",
    "\n",
    "transactions['merchantName'].str.contains('#').value_counts()"
   ]
  },
  {
   "cell_type": "code",
   "execution_count": 34,
   "metadata": {},
   "outputs": [
    {
     "data": {
      "text/plain": [
       "Lyft                 690\n",
       "ebay.com             604\n",
       "Fresh Flowers        516\n",
       "EZ Putt Putt         469\n",
       "Uber                 422\n",
       "cheapfast.com        418\n",
       "sears.com            383\n",
       "walmart.com          373\n",
       "oldnavy.com          359\n",
       "staples.com          354\n",
       "alibaba.com          352\n",
       "amazon.com           347\n",
       "gap.com              338\n",
       "apple.com            329\n",
       "target.com           324\n",
       "discount.com         313\n",
       "American Airlines    287\n",
       "In-N-Out             236\n",
       "AMC                  234\n",
       "Regal Cinemas        212\n",
       "Name: merchantName, dtype: int64"
      ]
     },
     "execution_count": 34,
     "metadata": {},
     "output_type": "execute_result"
    }
   ],
   "source": [
    "# Do the same with fraud transactions\n",
    "fraud_transactions = transactions[transactions.isFraud ==True]\n",
    "fraud_transactions['merchantName'].value_counts().head(20)"
   ]
  },
  {
   "cell_type": "markdown",
   "metadata": {},
   "source": [
    "There are alot of '.com' lets check how many .com are fraud"
   ]
  },
  {
   "cell_type": "code",
   "execution_count": 35,
   "metadata": {},
   "outputs": [
    {
     "data": {
      "text/plain": [
       "False    6766\n",
       "True     4545\n",
       "Name: merchantName, dtype: int64"
      ]
     },
     "execution_count": 35,
     "metadata": {},
     "output_type": "execute_result"
    }
   ],
   "source": [
    "fraud_transactions['merchantName'].str.contains('.com').value_counts()"
   ]
  },
  {
   "cell_type": "markdown",
   "metadata": {},
   "source": [
    "There are more than half of fraud have .com in it. We could use this to make a new column"
   ]
  },
  {
   "cell_type": "code",
   "execution_count": 36,
   "metadata": {},
   "outputs": [],
   "source": [
    "fraud_transactions.loc[:,'containsCom'] = fraud_transactions['merchantName'].str.contains('.com').copy()\n",
    "transactions.loc[:,'containsCom'] = transactions.loc[:,'merchantName'].str.contains('.com').copy()"
   ]
  },
  {
   "cell_type": "markdown",
   "metadata": {},
   "source": [
    "\n",
    "\n",
    "#### 7.2.2 Transaction Type\n",
    "\n"
   ]
  },
  {
   "cell_type": "code",
   "execution_count": 37,
   "metadata": {},
   "outputs": [
    {
     "data": {
      "text/plain": [
       "PURCHASE                10900\n",
       "REVERSAL                  304\n",
       "ADDRESS_VERIFICATION      107\n",
       "Name: transactionType, dtype: int64"
      ]
     },
     "execution_count": 37,
     "metadata": {},
     "output_type": "execute_result"
    }
   ],
   "source": [
    "# Does fraud occur in transaction type other than purchase?\n",
    "fraud_transactions['transactionType'].value_counts()\n"
   ]
  },
  {
   "cell_type": "markdown",
   "metadata": {},
   "source": [
    "Not all fraud transaction are Purchase so we need to keep this"
   ]
  },
  {
   "cell_type": "markdown",
   "metadata": {},
   "source": [
    "#### 7.2.3 Card last 4 digits.\n",
    "\n",
    "What do we do with only 2 digits or anything not 4?"
   ]
  },
  {
   "cell_type": "code",
   "execution_count": 38,
   "metadata": {},
   "outputs": [
    {
     "data": {
      "text/plain": [
       "(100142, 22)"
      ]
     },
     "execution_count": 38,
     "metadata": {},
     "output_type": "execute_result"
    }
   ],
   "source": [
    "transactions[transactions['cardLast4Digits'].str.len() < 4].shape\n"
   ]
  },
  {
   "cell_type": "code",
   "execution_count": null,
   "metadata": {},
   "outputs": [],
   "source": []
  },
  {
   "cell_type": "markdown",
   "metadata": {},
   "source": [
    "There are many rows with string card last 4 digits less than\n",
    "4. Lets keep this, the number of digits might give us some insights. It might be more useful to make a new variable that tells us the length of the digits than the actual number"
   ]
  },
  {
   "cell_type": "code",
   "execution_count": 39,
   "metadata": {},
   "outputs": [
    {
     "data": {
      "text/plain": [
       "4    627140\n",
       "3     93647\n",
       "2      5781\n",
       "1       714\n",
       "Name: lengthOfLast4Digits, dtype: int64"
      ]
     },
     "execution_count": 39,
     "metadata": {},
     "output_type": "execute_result"
    }
   ],
   "source": [
    "transactions['lengthOfLast4Digits'] = transactions['cardLast4Digits'].str.len()\n",
    "transactions['lengthOfLast4Digits'].value_counts()"
   ]
  },
  {
   "cell_type": "code",
   "execution_count": 40,
   "metadata": {},
   "outputs": [],
   "source": [
    "# remove card last 4 digits column\n",
    "transactions = transactions.drop(columns = 'cardLast4Digits')"
   ]
  },
  {
   "cell_type": "markdown",
   "metadata": {},
   "source": [
    "#### 7.2.4 Pos Entry Mode\n",
    "\n",
    "\n",
    "09 PAN entry via electronic commerce, including chip.\n",
    "\n",
    "02 Magnetic stripe read. For Plus transactions, this code also means    that the exact Track 2 content is included and CVV checking is        possible.\n",
    "\n",
    "05 Integrated circuit card read; card data reliable.\n",
    "\n",
    "90 Magnetic stripe read and extract content of Track 1 or Track 2 included (CVV check is possible).\n",
    "\n",
    "80 Chip card was unable to process/magnetic stripe read default."
   ]
  },
  {
   "cell_type": "code",
   "execution_count": 41,
   "metadata": {},
   "outputs": [
    {
     "data": {
      "text/plain": [
       "05    292845\n",
       "09    219748\n",
       "02    182344\n",
       "90     18210\n",
       "80     14135\n",
       "Name: posEntryMode, dtype: int64"
      ]
     },
     "execution_count": 41,
     "metadata": {},
     "output_type": "execute_result"
    }
   ],
   "source": [
    "transactions['posEntryMode'].value_counts()"
   ]
  },
  {
   "cell_type": "markdown",
   "metadata": {},
   "source": [
    "Everything make sense. No faulty entry"
   ]
  },
  {
   "cell_type": "markdown",
   "metadata": {},
   "source": [
    "#### 7.2.5 Post Condition Code\n",
    "\n",
    "\n",
    "01 - Cardholder not present\n",
    "\n",
    "08 - Mail/telephone order (includes Visa phone and reoccurring transactions)\n",
    "\n",
    "99 - Doesnt exist"
   ]
  },
  {
   "cell_type": "code",
   "execution_count": 42,
   "metadata": {},
   "outputs": [
    {
     "data": {
      "text/plain": [
       "01    581772\n",
       "08    138543\n",
       "99      6967\n",
       "Name: posConditionCode, dtype: int64"
      ]
     },
     "execution_count": 42,
     "metadata": {},
     "output_type": "execute_result"
    }
   ],
   "source": [
    "transactions['posConditionCode'].value_counts()\n",
    "# make new feature for 99"
   ]
  },
  {
   "cell_type": "markdown",
   "metadata": {},
   "source": [
    "code 99 doesnt exist. Should we replace with other code? Lets check what are the transaction with code 99. "
   ]
  },
  {
   "cell_type": "code",
   "execution_count": 43,
   "metadata": {
    "scrolled": true
   },
   "outputs": [
    {
     "data": {
      "text/plain": [
       "AMC                      345\n",
       "EZ Putt Putt             288\n",
       "Uber                     243\n",
       "Lyft                     215\n",
       "target.com               156\n",
       "cheapfast.com            155\n",
       "discount.com             153\n",
       "walmart.com              152\n",
       "sears.com                148\n",
       "alibaba.com              141\n",
       "staples.com              140\n",
       "gap.com                  138\n",
       "apple.com                137\n",
       "oldnavy.com              137\n",
       "ebay.com                 131\n",
       "amazon.com               130\n",
       "Sunoco Gas               119\n",
       "Rodeway Inn              115\n",
       "Regal Cinemas            105\n",
       "Universe Massage          91\n",
       "Subway                    88\n",
       "Fresh eCards              85\n",
       "Fresh Flowers             84\n",
       "Apple iTunes              84\n",
       "Play Store                82\n",
       "Domino's Pizza            80\n",
       "Franks Pub                78\n",
       "Hilton Hotels             78\n",
       "Blue Mountain eCards      77\n",
       "Fresh Online Services     77\n",
       "Name: merchantName, dtype: int64"
      ]
     },
     "execution_count": 43,
     "metadata": {},
     "output_type": "execute_result"
    }
   ],
   "source": [
    "transactions[transactions['posConditionCode'] == '99'].merchantName.value_counts().head(30)"
   ]
  },
  {
   "cell_type": "markdown",
   "metadata": {},
   "source": [
    "#### 7.2.6 Country\n"
   ]
  },
  {
   "cell_type": "markdown",
   "metadata": {},
   "source": [
    "check if merchant country code is the same as acqCOuntry entry\n",
    "\n"
   ]
  },
  {
   "cell_type": "code",
   "execution_count": 44,
   "metadata": {},
   "outputs": [
    {
     "data": {
      "text/plain": [
       "True     727218\n",
       "False        64\n",
       "dtype: int64"
      ]
     },
     "execution_count": 44,
     "metadata": {},
     "output_type": "execute_result"
    }
   ],
   "source": [
    "(transactions.acqCountry == transactions.merchantCountryCode).value_counts()"
   ]
  },
  {
   "cell_type": "markdown",
   "metadata": {},
   "source": [
    "64 have countries that don't match. How many of these are fraud ?"
   ]
  },
  {
   "cell_type": "code",
   "execution_count": 45,
   "metadata": {},
   "outputs": [
    {
     "data": {
      "text/plain": [
       "False    64\n",
       "Name: isFraud, dtype: int64"
      ]
     },
     "execution_count": 45,
     "metadata": {},
     "output_type": "execute_result"
    }
   ],
   "source": [
    "transactions[(transactions.acqCountry != transactions.merchantCountryCode)].isFraud.value_counts()"
   ]
  },
  {
   "cell_type": "markdown",
   "metadata": {},
   "source": [
    "All of them are not fraud. What about the ones that have match countries:"
   ]
  },
  {
   "cell_type": "code",
   "execution_count": 46,
   "metadata": {},
   "outputs": [
    {
     "data": {
      "text/plain": [
       "False    715907\n",
       "True      11311\n",
       "Name: isFraud, dtype: int64"
      ]
     },
     "execution_count": 46,
     "metadata": {},
     "output_type": "execute_result"
    }
   ],
   "source": [
    "transactions[transactions.acqCountry == transactions.merchantCountryCode].isFraud.value_counts()"
   ]
  },
  {
   "cell_type": "markdown",
   "metadata": {},
   "source": [
    "Whent the country is the same, there is more chance that is Fraud"
   ]
  },
  {
   "cell_type": "markdown",
   "metadata": {},
   "source": [
    "### 7.3 Numerical Features <a id='7._Numerical'></a>\n",
    "\n"
   ]
  },
  {
   "cell_type": "markdown",
   "metadata": {},
   "source": [
    "#### 7.3.1 Check for Zeros Transaction amount"
   ]
  },
  {
   "cell_type": "code",
   "execution_count": 47,
   "metadata": {},
   "outputs": [
    {
     "data": {
      "text/plain": [
       "ADDRESS_VERIFICATION    107\n",
       "REVERSAL                  5\n",
       "Name: transactionType, dtype: int64"
      ]
     },
     "execution_count": 47,
     "metadata": {},
     "output_type": "execute_result"
    }
   ],
   "source": [
    "fraud_transactions[fraud_transactions['transactionAmount']==0].transactionType.value_counts()"
   ]
  },
  {
   "cell_type": "markdown",
   "metadata": {},
   "source": [
    "Most of the transaction types are address verification when transactiont amount is zero"
   ]
  },
  {
   "cell_type": "code",
   "execution_count": null,
   "metadata": {
    "scrolled": true
   },
   "outputs": [],
   "source": []
  },
  {
   "cell_type": "markdown",
   "metadata": {},
   "source": [
    "#### 7.3.2 Check for distribution in credit card limit at 50000"
   ]
  },
  {
   "cell_type": "markdown",
   "metadata": {},
   "source": [
    "How many transactions using credit card with limit of 50,000 are fraud? "
   ]
  },
  {
   "cell_type": "code",
   "execution_count": 48,
   "metadata": {},
   "outputs": [
    {
     "data": {
      "text/plain": [
       "False    44973\n",
       "True       789\n",
       "Name: isFraud, dtype: int64"
      ]
     },
     "execution_count": 48,
     "metadata": {},
     "output_type": "execute_result"
    }
   ],
   "source": [
    "(transactions[transactions['creditLimit']==50000]['isFraud']).value_counts()"
   ]
  },
  {
   "cell_type": "code",
   "execution_count": 49,
   "metadata": {},
   "outputs": [
    {
     "data": {
      "text/plain": [
       "1.7241379310344827"
      ]
     },
     "execution_count": 49,
     "metadata": {},
     "output_type": "execute_result"
    }
   ],
   "source": [
    "#  get the percentage\n",
    "789/ (44973+789) * 100"
   ]
  },
  {
   "cell_type": "code",
   "execution_count": null,
   "metadata": {},
   "outputs": [],
   "source": []
  },
  {
   "cell_type": "raw",
   "metadata": {},
   "source": []
  },
  {
   "cell_type": "markdown",
   "metadata": {},
   "source": [
    "Only 1.72% of credit card with limit of 50,000 is fraud"
   ]
  },
  {
   "cell_type": "markdown",
   "metadata": {},
   "source": [
    "What about the credit cards that are not 50,000. what are the percentages that are fraud?"
   ]
  },
  {
   "cell_type": "code",
   "execution_count": 50,
   "metadata": {},
   "outputs": [
    {
     "data": {
      "text/plain": [
       "False    670998\n",
       "True      10522\n",
       "Name: isFraud, dtype: int64"
      ]
     },
     "execution_count": 50,
     "metadata": {},
     "output_type": "execute_result"
    }
   ],
   "source": [
    "(transactions[transactions['creditLimit']!=50000]['isFraud']).value_counts()"
   ]
  },
  {
   "cell_type": "code",
   "execution_count": 51,
   "metadata": {},
   "outputs": [
    {
     "data": {
      "text/plain": [
       "1.543901866416246"
      ]
     },
     "execution_count": 51,
     "metadata": {},
     "output_type": "execute_result"
    }
   ],
   "source": [
    "#  get the percentage\n",
    "10522/ (670998+10522) * 100"
   ]
  },
  {
   "cell_type": "markdown",
   "metadata": {},
   "source": [
    "1.54% of credit card with limit of not 50,000 is fraud"
   ]
  },
  {
   "cell_type": "markdown",
   "metadata": {},
   "source": [
    "They are about the same. so eventhough the cc limit is high, it only increase its fraud possibility by 0.2%\n",
    "Should we keep this cc limit of 50,000?\n"
   ]
  },
  {
   "cell_type": "markdown",
   "metadata": {},
   "source": [
    "Check the fraud/not fraud for each cc limit"
   ]
  },
  {
   "cell_type": "code",
   "execution_count": 52,
   "metadata": {},
   "outputs": [
    {
     "data": {
      "text/plain": [
       "Text(0.5, 0, 'cc limit $')"
      ]
     },
     "execution_count": 52,
     "metadata": {},
     "output_type": "execute_result"
    },
    {
     "data": {
      "image/png": "[encoded data removed]",
      "text/plain": [
       "<Figure size 360x360 with 1 Axes>"
      ]
     },
     "metadata": {
      "needs_background": "light"
     },
     "output_type": "display_data"
    }
   ],
   "source": [
    "limitArray = fraud_transactions['creditLimit'].unique().sort()\n",
    "\n",
    "fraud_transactions['creditLimit'].hist(figsize=(5,5))\n",
    "plt.title('FRAUD ONLY Transactions')\n",
    "plt.xlabel('cc limit $')"
   ]
  },
  {
   "cell_type": "code",
   "execution_count": 53,
   "metadata": {},
   "outputs": [
    {
     "data": {
      "text/plain": [
       "Text(0.5, 0, 'cc limit $')"
      ]
     },
     "execution_count": 53,
     "metadata": {},
     "output_type": "execute_result"
    },
    {
     "data": {
      "image/png": "[encoded data removed]",
      "text/plain": [
       "<Figure size 360x360 with 1 Axes>"
      ]
     },
     "metadata": {
      "needs_background": "light"
     },
     "output_type": "display_data"
    }
   ],
   "source": [
    "transactions['creditLimit'].hist(figsize=(5,5))\n",
    "plt.title('All Transactions')\n",
    "plt.xlabel('cc limit $')\n"
   ]
  },
  {
   "cell_type": "markdown",
   "metadata": {},
   "source": [
    "We can do Z proportion test to check if the proportion is actually different ?\n",
    "Lets reduce the number of unique values to 8 instead of 10. We can treat this entry as categorical instead"
   ]
  },
  {
   "cell_type": "code",
   "execution_count": 54,
   "metadata": {},
   "outputs": [
    {
     "data": {
      "text/plain": [
       "5000.0     186794\n",
       "15000.0    126544\n",
       "7500.0      90514\n",
       "2500.0      69619\n",
       "20000.0     65676\n",
       "10000.0     53449\n",
       "50000.0     45762\n",
       "1000.0      33489\n",
       "250.0       30410\n",
       "500.0       25025\n",
       "Name: creditLimit, dtype: int64"
      ]
     },
     "execution_count": 54,
     "metadata": {},
     "output_type": "execute_result"
    }
   ],
   "source": [
    "transactions['creditLimit'].value_counts()"
   ]
  },
  {
   "cell_type": "code",
   "execution_count": 55,
   "metadata": {},
   "outputs": [],
   "source": [
    "conditions = [\n",
    "    (transactions['creditLimit'] <= 1000.0),\n",
    "    (transactions['creditLimit'] >= 2500.0) & (transactions['creditLimit'] <= 5000.0),\n",
    "    (transactions['creditLimit'] >= 7500.0) & (transactions['creditLimit'] <= 10000.0),\n",
    "    (transactions['creditLimit'] >= 15000.0)& (transactions['creditLimit'] <= 20000.0) ,\n",
    "    (transactions['creditLimit'] == 50000.0)]\n",
    "# 1- '1000 and below'\n",
    "# 2- '2500-5000'\n",
    "# 3- '7500-10000'\n",
    "# 4- 15000-20000'\n",
    "# 5-'50000 and over'\n",
    "choices = [1, 2,3,4,5]\n",
    "transactions['creditLimitCategory'] = np.select(conditions,choices)\n",
    "\n"
   ]
  },
  {
   "cell_type": "code",
   "execution_count": 56,
   "metadata": {},
   "outputs": [
    {
     "data": {
      "text/plain": [
       "<AxesSubplot:>"
      ]
     },
     "execution_count": 56,
     "metadata": {},
     "output_type": "execute_result"
    },
    {
     "data": {
      "image/png": "[encoded data removed]",
      "text/plain": [
       "<Figure size 432x288 with 1 Axes>"
      ]
     },
     "metadata": {
      "needs_background": "light"
     },
     "output_type": "display_data"
    }
   ],
   "source": [
    "# Use pandas. plot to plot bar\n",
    "# .sort_index make sure its not sorted according to the value\n",
    "\n",
    "transactions['creditLimitCategory'].value_counts().sort_index(axis=0).plot(kind='bar', rot = 0, x = 'category')\n"
   ]
  },
  {
   "cell_type": "code",
   "execution_count": 57,
   "metadata": {},
   "outputs": [
    {
     "data": {
      "image/png": "[encoded data removed]",
      "text/plain": [
       "<Figure size 432x288 with 1 Axes>"
      ]
     },
     "metadata": {
      "needs_background": "light"
     },
     "output_type": "display_data"
    }
   ],
   "source": [
    "# alternative, use matplot lib plt.bar()\n",
    "labels, counts = np.unique(transactions['creditLimitCategory'],return_counts = True)\n",
    "plt.bar(labels, counts, align= 'center')\n",
    "plt.gca().set_xticks(labels)\n",
    "plt.show()"
   ]
  },
  {
   "cell_type": "markdown",
   "metadata": {},
   "source": [
    "Drop creditLimit column now that we have turn it into categorical feature"
   ]
  },
  {
   "cell_type": "code",
   "execution_count": 62,
   "metadata": {},
   "outputs": [],
   "source": [
    "transactions = transactions.drop(columns = 'creditLimit')"
   ]
  },
  {
   "cell_type": "markdown",
   "metadata": {},
   "source": [
    "## 8 Save Data<a id='8._Save'></a>"
   ]
  },
  {
   "cell_type": "code",
   "execution_count": 63,
   "metadata": {},
   "outputs": [
    {
     "data": {
      "text/plain": [
       "accountNumber                       object\n",
       "availableMoney                     float64\n",
       "transactionDateTime         datetime64[ns]\n",
       "transactionAmount                  float64\n",
       "merchantName                        object\n",
       "acqCountry                          object\n",
       "merchantCountryCode                 object\n",
       "posEntryMode                        object\n",
       "posConditionCode                    object\n",
       "merchantCategoryCode                object\n",
       "currentExpDate              datetime64[ns]\n",
       "accountOpenDate             datetime64[ns]\n",
       "dateOfLastAddressChange     datetime64[ns]\n",
       "transactionType                     object\n",
       "currentBalance                     float64\n",
       "cardPresent                           bool\n",
       "expirationDateKeyInMatch              bool\n",
       "isFraud                               bool\n",
       "CVVMatch                              bool\n",
       "containsCom                           bool\n",
       "lengthOfLast4Digits                  int64\n",
       "creditLimitCategory                  int64\n",
       "dtype: object"
      ]
     },
     "execution_count": 63,
     "metadata": {},
     "output_type": "execute_result"
    }
   ],
   "source": [
    "transactions.dtypes"
   ]
  },
  {
   "cell_type": "code",
   "execution_count": 64,
   "metadata": {},
   "outputs": [],
   "source": [
    "datapath = '../CreditCardFraud/data'\n",
    "# renaming the output data directory and re-running this notebook, for example,\n",
    "# will recreate this (empty) directory 'data' and resave the data files.\n",
    "# NB this is not a substitute for a modern data pipeline, for which there are\n",
    "# various tools. However, for our purposes here, and often in a \"one off\" analysis,\n",
    "# this is useful because we have to deliberately move/delete our data in order\n",
    "# to overwrite it.\n",
    "#if path doesnt exist\n",
    "\n",
    "if not os.path.exists(datapath):\n",
    "    #create data path\n",
    "    os.mkdir(datapath)\n",
    "    \n",
    "    "
   ]
  },
  {
   "cell_type": "code",
   "execution_count": 65,
   "metadata": {},
   "outputs": [
    {
     "name": "stdout",
     "output_type": "stream",
     "text": [
      "../CreditCardFraud/data/transaction_data_cleaned.csv\n"
     ]
    }
   ],
   "source": [
    "datapath_transactiondata = os.path.join(datapath, 'transaction_data_cleaned.csv')\n",
    "\n",
    "# if path with this ski_data cleaned file doesnt exist\n",
    "# if not os.path.exists(datapath_transactiondata):\n",
    "# create it\n",
    "transactions.to_csv(datapath_transactiondata, index=False)\n",
    "print(datapath_transactiondata)"
   ]
  },
  {
   "cell_type": "code",
   "execution_count": 66,
   "metadata": {},
   "outputs": [],
   "source": [
    "df = pd.read_csv('data/transaction_data_cleaned.csv')\n"
   ]
  },
  {
   "cell_type": "code",
   "execution_count": 67,
   "metadata": {},
   "outputs": [
    {
     "data": {
      "text/html": [
       "<div>\n",
       "<style scoped>\n",
       "    .dataframe tbody tr th:only-of-type {\n",
       "        vertical-align: middle;\n",
       "    }\n",
       "\n",
       "    .dataframe tbody tr th {\n",
       "        vertical-align: top;\n",
       "    }\n",
       "\n",
       "    .dataframe thead th {\n",
       "        text-align: right;\n",
       "    }\n",
       "</style>\n",
       "<table border=\"1\" class=\"dataframe\">\n",
       "  <thead>\n",
       "    <tr style=\"text-align: right;\">\n",
       "      <th></th>\n",
       "      <th>accountNumber</th>\n",
       "      <th>availableMoney</th>\n",
       "      <th>transactionDateTime</th>\n",
       "      <th>transactionAmount</th>\n",
       "      <th>merchantName</th>\n",
       "      <th>acqCountry</th>\n",
       "      <th>merchantCountryCode</th>\n",
       "      <th>posEntryMode</th>\n",
       "      <th>posConditionCode</th>\n",
       "      <th>merchantCategoryCode</th>\n",
       "      <th>...</th>\n",
       "      <th>dateOfLastAddressChange</th>\n",
       "      <th>transactionType</th>\n",
       "      <th>currentBalance</th>\n",
       "      <th>cardPresent</th>\n",
       "      <th>expirationDateKeyInMatch</th>\n",
       "      <th>isFraud</th>\n",
       "      <th>CVVMatch</th>\n",
       "      <th>containsCom</th>\n",
       "      <th>lengthOfLast4Digits</th>\n",
       "      <th>creditLimitCategory</th>\n",
       "    </tr>\n",
       "  </thead>\n",
       "  <tbody>\n",
       "    <tr>\n",
       "      <th>0</th>\n",
       "      <td>419104777</td>\n",
       "      <td>50000.00</td>\n",
       "      <td>2016-01-01 00:01:02</td>\n",
       "      <td>44.09</td>\n",
       "      <td>Washington Post</td>\n",
       "      <td>US</td>\n",
       "      <td>US</td>\n",
       "      <td>9</td>\n",
       "      <td>1</td>\n",
       "      <td>subscriptions</td>\n",
       "      <td>...</td>\n",
       "      <td>2015-05-30 00:00:00</td>\n",
       "      <td>PURCHASE</td>\n",
       "      <td>0.00</td>\n",
       "      <td>False</td>\n",
       "      <td>False</td>\n",
       "      <td>False</td>\n",
       "      <td>True</td>\n",
       "      <td>False</td>\n",
       "      <td>4</td>\n",
       "      <td>5</td>\n",
       "    </tr>\n",
       "    <tr>\n",
       "      <th>1</th>\n",
       "      <td>958438658</td>\n",
       "      <td>20000.00</td>\n",
       "      <td>2016-01-01 00:01:47</td>\n",
       "      <td>164.57</td>\n",
       "      <td>cheapfast.com</td>\n",
       "      <td>US</td>\n",
       "      <td>US</td>\n",
       "      <td>5</td>\n",
       "      <td>1</td>\n",
       "      <td>online_retail</td>\n",
       "      <td>...</td>\n",
       "      <td>2013-07-20 00:00:00</td>\n",
       "      <td>PURCHASE</td>\n",
       "      <td>0.00</td>\n",
       "      <td>False</td>\n",
       "      <td>False</td>\n",
       "      <td>False</td>\n",
       "      <td>True</td>\n",
       "      <td>True</td>\n",
       "      <td>4</td>\n",
       "      <td>4</td>\n",
       "    </tr>\n",
       "    <tr>\n",
       "      <th>2</th>\n",
       "      <td>851126461</td>\n",
       "      <td>10000.00</td>\n",
       "      <td>2016-01-01 00:02:04</td>\n",
       "      <td>122.83</td>\n",
       "      <td>discount.com</td>\n",
       "      <td>US</td>\n",
       "      <td>US</td>\n",
       "      <td>2</td>\n",
       "      <td>8</td>\n",
       "      <td>online_retail</td>\n",
       "      <td>...</td>\n",
       "      <td>2014-10-18 00:00:00</td>\n",
       "      <td>PURCHASE</td>\n",
       "      <td>0.00</td>\n",
       "      <td>False</td>\n",
       "      <td>False</td>\n",
       "      <td>False</td>\n",
       "      <td>True</td>\n",
       "      <td>True</td>\n",
       "      <td>4</td>\n",
       "      <td>3</td>\n",
       "    </tr>\n",
       "    <tr>\n",
       "      <th>3</th>\n",
       "      <td>148963316</td>\n",
       "      <td>2500.00</td>\n",
       "      <td>2016-01-01 00:02:19</td>\n",
       "      <td>0.00</td>\n",
       "      <td>Fast Repair</td>\n",
       "      <td>US</td>\n",
       "      <td>US</td>\n",
       "      <td>5</td>\n",
       "      <td>1</td>\n",
       "      <td>auto</td>\n",
       "      <td>...</td>\n",
       "      <td>2013-12-12 00:00:00</td>\n",
       "      <td>ADDRESS_VERIFICATION</td>\n",
       "      <td>0.00</td>\n",
       "      <td>False</td>\n",
       "      <td>False</td>\n",
       "      <td>False</td>\n",
       "      <td>True</td>\n",
       "      <td>False</td>\n",
       "      <td>4</td>\n",
       "      <td>2</td>\n",
       "    </tr>\n",
       "    <tr>\n",
       "      <th>4</th>\n",
       "      <td>974901832</td>\n",
       "      <td>250.00</td>\n",
       "      <td>2016-01-01 00:03:47</td>\n",
       "      <td>24.56</td>\n",
       "      <td>staples.com</td>\n",
       "      <td>US</td>\n",
       "      <td>US</td>\n",
       "      <td>5</td>\n",
       "      <td>1</td>\n",
       "      <td>online_retail</td>\n",
       "      <td>...</td>\n",
       "      <td>2012-05-29 00:00:00</td>\n",
       "      <td>PURCHASE</td>\n",
       "      <td>0.00</td>\n",
       "      <td>False</td>\n",
       "      <td>False</td>\n",
       "      <td>False</td>\n",
       "      <td>True</td>\n",
       "      <td>True</td>\n",
       "      <td>4</td>\n",
       "      <td>1</td>\n",
       "    </tr>\n",
       "    <tr>\n",
       "      <th>...</th>\n",
       "      <td>...</td>\n",
       "      <td>...</td>\n",
       "      <td>...</td>\n",
       "      <td>...</td>\n",
       "      <td>...</td>\n",
       "      <td>...</td>\n",
       "      <td>...</td>\n",
       "      <td>...</td>\n",
       "      <td>...</td>\n",
       "      <td>...</td>\n",
       "      <td>...</td>\n",
       "      <td>...</td>\n",
       "      <td>...</td>\n",
       "      <td>...</td>\n",
       "      <td>...</td>\n",
       "      <td>...</td>\n",
       "      <td>...</td>\n",
       "      <td>...</td>\n",
       "      <td>...</td>\n",
       "      <td>...</td>\n",
       "      <td>...</td>\n",
       "    </tr>\n",
       "    <tr>\n",
       "      <th>727277</th>\n",
       "      <td>690351684</td>\n",
       "      <td>6007.68</td>\n",
       "      <td>2016-12-30 23:57:33</td>\n",
       "      <td>128.84</td>\n",
       "      <td>EZ Putt Putt</td>\n",
       "      <td>US</td>\n",
       "      <td>US</td>\n",
       "      <td>9</td>\n",
       "      <td>1</td>\n",
       "      <td>entertainment</td>\n",
       "      <td>...</td>\n",
       "      <td>2015-02-26 00:00:00</td>\n",
       "      <td>PURCHASE</td>\n",
       "      <td>1492.32</td>\n",
       "      <td>True</td>\n",
       "      <td>False</td>\n",
       "      <td>False</td>\n",
       "      <td>True</td>\n",
       "      <td>False</td>\n",
       "      <td>4</td>\n",
       "      <td>3</td>\n",
       "    </tr>\n",
       "    <tr>\n",
       "      <th>727278</th>\n",
       "      <td>365766122</td>\n",
       "      <td>970.87</td>\n",
       "      <td>2016-12-30 23:58:25</td>\n",
       "      <td>49.47</td>\n",
       "      <td>alibaba.com</td>\n",
       "      <td>US</td>\n",
       "      <td>US</td>\n",
       "      <td>90</td>\n",
       "      <td>1</td>\n",
       "      <td>online_retail</td>\n",
       "      <td>...</td>\n",
       "      <td>2016-10-06 00:00:00</td>\n",
       "      <td>PURCHASE</td>\n",
       "      <td>6529.13</td>\n",
       "      <td>False</td>\n",
       "      <td>False</td>\n",
       "      <td>False</td>\n",
       "      <td>True</td>\n",
       "      <td>True</td>\n",
       "      <td>4</td>\n",
       "      <td>3</td>\n",
       "    </tr>\n",
       "    <tr>\n",
       "      <th>727279</th>\n",
       "      <td>543902721</td>\n",
       "      <td>767.70</td>\n",
       "      <td>2016-12-30 23:59:33</td>\n",
       "      <td>13.02</td>\n",
       "      <td>abc.com</td>\n",
       "      <td>US</td>\n",
       "      <td>US</td>\n",
       "      <td>5</td>\n",
       "      <td>8</td>\n",
       "      <td>online_subscriptions</td>\n",
       "      <td>...</td>\n",
       "      <td>2012-02-11 00:00:00</td>\n",
       "      <td>PURCHASE</td>\n",
       "      <td>232.30</td>\n",
       "      <td>False</td>\n",
       "      <td>False</td>\n",
       "      <td>False</td>\n",
       "      <td>True</td>\n",
       "      <td>True</td>\n",
       "      <td>4</td>\n",
       "      <td>1</td>\n",
       "    </tr>\n",
       "    <tr>\n",
       "      <th>727280</th>\n",
       "      <td>912493707</td>\n",
       "      <td>4991.10</td>\n",
       "      <td>2016-12-30 23:59:35</td>\n",
       "      <td>8.85</td>\n",
       "      <td>Play Store</td>\n",
       "      <td>US</td>\n",
       "      <td>US</td>\n",
       "      <td>9</td>\n",
       "      <td>8</td>\n",
       "      <td>mobileapps</td>\n",
       "      <td>...</td>\n",
       "      <td>2016-10-31 00:00:00</td>\n",
       "      <td>PURCHASE</td>\n",
       "      <td>8.90</td>\n",
       "      <td>False</td>\n",
       "      <td>False</td>\n",
       "      <td>False</td>\n",
       "      <td>True</td>\n",
       "      <td>False</td>\n",
       "      <td>4</td>\n",
       "      <td>2</td>\n",
       "    </tr>\n",
       "    <tr>\n",
       "      <th>727281</th>\n",
       "      <td>152973583</td>\n",
       "      <td>7195.76</td>\n",
       "      <td>2016-12-30 23:59:45</td>\n",
       "      <td>169.07</td>\n",
       "      <td>Burger King</td>\n",
       "      <td>US</td>\n",
       "      <td>US</td>\n",
       "      <td>9</td>\n",
       "      <td>1</td>\n",
       "      <td>fastfood</td>\n",
       "      <td>...</td>\n",
       "      <td>2016-08-19 00:00:00</td>\n",
       "      <td>PURCHASE</td>\n",
       "      <td>7804.24</td>\n",
       "      <td>True</td>\n",
       "      <td>False</td>\n",
       "      <td>False</td>\n",
       "      <td>True</td>\n",
       "      <td>False</td>\n",
       "      <td>4</td>\n",
       "      <td>4</td>\n",
       "    </tr>\n",
       "  </tbody>\n",
       "</table>\n",
       "<p>727282 rows × 22 columns</p>\n",
       "</div>"
      ],
      "text/plain": [
       "        accountNumber  availableMoney  transactionDateTime  transactionAmount  \\\n",
       "0           419104777        50000.00  2016-01-01 00:01:02              44.09   \n",
       "1           958438658        20000.00  2016-01-01 00:01:47             164.57   \n",
       "2           851126461        10000.00  2016-01-01 00:02:04             122.83   \n",
       "3           148963316         2500.00  2016-01-01 00:02:19               0.00   \n",
       "4           974901832          250.00  2016-01-01 00:03:47              24.56   \n",
       "...               ...             ...                  ...                ...   \n",
       "727277      690351684         6007.68  2016-12-30 23:57:33             128.84   \n",
       "727278      365766122          970.87  2016-12-30 23:58:25              49.47   \n",
       "727279      543902721          767.70  2016-12-30 23:59:33              13.02   \n",
       "727280      912493707         4991.10  2016-12-30 23:59:35               8.85   \n",
       "727281      152973583         7195.76  2016-12-30 23:59:45             169.07   \n",
       "\n",
       "           merchantName acqCountry merchantCountryCode  posEntryMode  \\\n",
       "0       Washington Post         US                  US             9   \n",
       "1         cheapfast.com         US                  US             5   \n",
       "2          discount.com         US                  US             2   \n",
       "3           Fast Repair         US                  US             5   \n",
       "4           staples.com         US                  US             5   \n",
       "...                 ...        ...                 ...           ...   \n",
       "727277     EZ Putt Putt         US                  US             9   \n",
       "727278      alibaba.com         US                  US            90   \n",
       "727279          abc.com         US                  US             5   \n",
       "727280       Play Store         US                  US             9   \n",
       "727281      Burger King         US                  US             9   \n",
       "\n",
       "        posConditionCode  merchantCategoryCode  ... dateOfLastAddressChange  \\\n",
       "0                      1         subscriptions  ...     2015-05-30 00:00:00   \n",
       "1                      1         online_retail  ...     2013-07-20 00:00:00   \n",
       "2                      8         online_retail  ...     2014-10-18 00:00:00   \n",
       "3                      1                  auto  ...     2013-12-12 00:00:00   \n",
       "4                      1         online_retail  ...     2012-05-29 00:00:00   \n",
       "...                  ...                   ...  ...                     ...   \n",
       "727277                 1         entertainment  ...     2015-02-26 00:00:00   \n",
       "727278                 1         online_retail  ...     2016-10-06 00:00:00   \n",
       "727279                 8  online_subscriptions  ...     2012-02-11 00:00:00   \n",
       "727280                 8            mobileapps  ...     2016-10-31 00:00:00   \n",
       "727281                 1              fastfood  ...     2016-08-19 00:00:00   \n",
       "\n",
       "             transactionType currentBalance cardPresent  \\\n",
       "0                   PURCHASE           0.00       False   \n",
       "1                   PURCHASE           0.00       False   \n",
       "2                   PURCHASE           0.00       False   \n",
       "3       ADDRESS_VERIFICATION           0.00       False   \n",
       "4                   PURCHASE           0.00       False   \n",
       "...                      ...            ...         ...   \n",
       "727277              PURCHASE        1492.32        True   \n",
       "727278              PURCHASE        6529.13       False   \n",
       "727279              PURCHASE         232.30       False   \n",
       "727280              PURCHASE           8.90       False   \n",
       "727281              PURCHASE        7804.24        True   \n",
       "\n",
       "        expirationDateKeyInMatch  isFraud  CVVMatch  containsCom  \\\n",
       "0                          False    False      True        False   \n",
       "1                          False    False      True         True   \n",
       "2                          False    False      True         True   \n",
       "3                          False    False      True        False   \n",
       "4                          False    False      True         True   \n",
       "...                          ...      ...       ...          ...   \n",
       "727277                     False    False      True        False   \n",
       "727278                     False    False      True         True   \n",
       "727279                     False    False      True         True   \n",
       "727280                     False    False      True        False   \n",
       "727281                     False    False      True        False   \n",
       "\n",
       "        lengthOfLast4Digits  creditLimitCategory  \n",
       "0                         4                    5  \n",
       "1                         4                    4  \n",
       "2                         4                    3  \n",
       "3                         4                    2  \n",
       "4                         4                    1  \n",
       "...                     ...                  ...  \n",
       "727277                    4                    3  \n",
       "727278                    4                    3  \n",
       "727279                    4                    1  \n",
       "727280                    4                    2  \n",
       "727281                    4                    4  \n",
       "\n",
       "[727282 rows x 22 columns]"
      ]
     },
     "execution_count": 67,
     "metadata": {},
     "output_type": "execute_result"
    }
   ],
   "source": [
    "df"
   ]
  },
  {
   "cell_type": "code",
   "execution_count": 68,
   "metadata": {},
   "outputs": [
    {
     "data": {
      "text/plain": [
       "accountNumber                 int64\n",
       "availableMoney              float64\n",
       "transactionDateTime          object\n",
       "transactionAmount           float64\n",
       "merchantName                 object\n",
       "acqCountry                   object\n",
       "merchantCountryCode          object\n",
       "posEntryMode                  int64\n",
       "posConditionCode              int64\n",
       "merchantCategoryCode         object\n",
       "currentExpDate               object\n",
       "accountOpenDate              object\n",
       "dateOfLastAddressChange      object\n",
       "transactionType              object\n",
       "currentBalance              float64\n",
       "cardPresent                    bool\n",
       "expirationDateKeyInMatch       bool\n",
       "isFraud                        bool\n",
       "CVVMatch                       bool\n",
       "containsCom                    bool\n",
       "lengthOfLast4Digits           int64\n",
       "creditLimitCategory           int64\n",
       "dtype: object"
      ]
     },
     "execution_count": 68,
     "metadata": {},
     "output_type": "execute_result"
    }
   ],
   "source": [
    "df.dtypes"
   ]
  },
  {
   "cell_type": "code",
   "execution_count": null,
   "metadata": {},
   "outputs": [],
   "source": []
  }
 ],
 "metadata": {
  "kernelspec": {
   "display_name": "Python 3",
   "language": "python",
   "name": "python3"
  },
  "language_info": {
   "codemirror_mode": {
    "name": "ipython",
    "version": 3
   },
   "file_extension": ".py",
   "mimetype": "text/x-python",
   "name": "python",
   "nbconvert_exporter": "python",
   "pygments_lexer": "ipython3",
   "version": "3.8.5"
  }
 },
 "nbformat": 4,
 "nbformat_minor": 4
}

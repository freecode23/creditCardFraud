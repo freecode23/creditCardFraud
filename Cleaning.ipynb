{
 "cells": [
  {
   "cell_type": "markdown",
   "metadata": {},
   "source": [
    "## 1 Data Wrangling"
   ]
  },
  {
   "cell_type": "markdown",
   "metadata": {},
   "source": [
    "#  Contents<a id='Contents'></a>\n",
    "* [1. Imports](#1._Imports)\n",
    "* [2. Convert txt file to data frame](#2._Convert_txt_file_to_data_frame)\n",
    "* [3. Clean empty values](#3._Clean)\n",
    "* [4. Data Types Problem](#4._Data_Types)\n",
    "* [5. Profiling](#5._Profiling)\n",
    "* [6. Drop columns](#6._Drop_columns)\n",
    "* [7. Explore the Data](#7._Explore_Data)\n",
    "    * [7.1. Date Time Features](#7._Date_Time)\n",
    "    * [7.2. Categorical Features](#7._Categorical)\n",
    "    * [7.3. Numerical Features](#7._Numerical)\n",
    "* [8. Save Data](#8._Save)\n"
   ]
  },
  {
   "cell_type": "markdown",
   "metadata": {},
   "source": [
    "## 1. Imports <a id='1._Imports'></a>"
   ]
  },
  {
   "cell_type": "code",
   "execution_count": 1,
   "metadata": {},
   "outputs": [],
   "source": [
    "import pandas as pd\n",
    "import numpy as np\n",
    "import matplotlib.pyplot as plt\n",
    "import json\n",
    "import os\n",
    "pd.options.mode.chained_assignment = None  # default='warn'\n",
    "from pandas_profiling import ProfileReport\n"
   ]
  },
  {
   "cell_type": "markdown",
   "metadata": {},
   "source": [
    "## 2. Convert txt file to data frame<a id='2._Convert_txt_file_to_data_frame'></a>"
   ]
  },
  {
   "cell_type": "code",
   "execution_count": 2,
   "metadata": {},
   "outputs": [],
   "source": [
    "# https://stackoverflow.com/questions/47889565/reading-json-objects-from-text-file-into-pandas\n",
    "\n",
    "list = []\n",
    "with open('transactions.txt') as file:\n",
    "    for line in file:\n",
    "        list.append(json.loads(line)) #convert each line to json then add to list\n",
    "\n"
   ]
  },
  {
   "cell_type": "code",
   "execution_count": 3,
   "metadata": {},
   "outputs": [],
   "source": [
    "transactions = pd.DataFrame(list) # convert this list into panda data frame"
   ]
  },
  {
   "cell_type": "code",
   "execution_count": 4,
   "metadata": {},
   "outputs": [
    {
     "data": {
      "text/html": [
       "<div>\n",
       "<style scoped>\n",
       "    .dataframe tbody tr th:only-of-type {\n",
       "        vertical-align: middle;\n",
       "    }\n",
       "\n",
       "    .dataframe tbody tr th {\n",
       "        vertical-align: top;\n",
       "    }\n",
       "\n",
       "    .dataframe thead th {\n",
       "        text-align: right;\n",
       "    }\n",
       "</style>\n",
       "<table border=\"1\" class=\"dataframe\">\n",
       "  <thead>\n",
       "    <tr style=\"text-align: right;\">\n",
       "      <th></th>\n",
       "      <th>accountNumber</th>\n",
       "      <th>customerId</th>\n",
       "      <th>creditLimit</th>\n",
       "      <th>availableMoney</th>\n",
       "      <th>transactionDateTime</th>\n",
       "      <th>transactionAmount</th>\n",
       "      <th>merchantName</th>\n",
       "      <th>acqCountry</th>\n",
       "      <th>merchantCountryCode</th>\n",
       "      <th>posEntryMode</th>\n",
       "      <th>...</th>\n",
       "      <th>echoBuffer</th>\n",
       "      <th>currentBalance</th>\n",
       "      <th>merchantCity</th>\n",
       "      <th>merchantState</th>\n",
       "      <th>merchantZip</th>\n",
       "      <th>cardPresent</th>\n",
       "      <th>posOnPremises</th>\n",
       "      <th>recurringAuthInd</th>\n",
       "      <th>expirationDateKeyInMatch</th>\n",
       "      <th>isFraud</th>\n",
       "    </tr>\n",
       "  </thead>\n",
       "  <tbody>\n",
       "    <tr>\n",
       "      <th>0</th>\n",
       "      <td>737265056</td>\n",
       "      <td>737265056</td>\n",
       "      <td>5000.0</td>\n",
       "      <td>5000.00</td>\n",
       "      <td>2016-08-13T14:27:32</td>\n",
       "      <td>98.55</td>\n",
       "      <td>Uber</td>\n",
       "      <td>US</td>\n",
       "      <td>US</td>\n",
       "      <td>02</td>\n",
       "      <td>...</td>\n",
       "      <td></td>\n",
       "      <td>0.00</td>\n",
       "      <td></td>\n",
       "      <td></td>\n",
       "      <td></td>\n",
       "      <td>False</td>\n",
       "      <td></td>\n",
       "      <td></td>\n",
       "      <td>False</td>\n",
       "      <td>False</td>\n",
       "    </tr>\n",
       "    <tr>\n",
       "      <th>1</th>\n",
       "      <td>737265056</td>\n",
       "      <td>737265056</td>\n",
       "      <td>5000.0</td>\n",
       "      <td>5000.00</td>\n",
       "      <td>2016-10-11T05:05:54</td>\n",
       "      <td>74.51</td>\n",
       "      <td>AMC #191138</td>\n",
       "      <td>US</td>\n",
       "      <td>US</td>\n",
       "      <td>09</td>\n",
       "      <td>...</td>\n",
       "      <td></td>\n",
       "      <td>0.00</td>\n",
       "      <td></td>\n",
       "      <td></td>\n",
       "      <td></td>\n",
       "      <td>True</td>\n",
       "      <td></td>\n",
       "      <td></td>\n",
       "      <td>False</td>\n",
       "      <td>False</td>\n",
       "    </tr>\n",
       "    <tr>\n",
       "      <th>2</th>\n",
       "      <td>737265056</td>\n",
       "      <td>737265056</td>\n",
       "      <td>5000.0</td>\n",
       "      <td>5000.00</td>\n",
       "      <td>2016-11-08T09:18:39</td>\n",
       "      <td>7.47</td>\n",
       "      <td>Play Store</td>\n",
       "      <td>US</td>\n",
       "      <td>US</td>\n",
       "      <td>09</td>\n",
       "      <td>...</td>\n",
       "      <td></td>\n",
       "      <td>0.00</td>\n",
       "      <td></td>\n",
       "      <td></td>\n",
       "      <td></td>\n",
       "      <td>False</td>\n",
       "      <td></td>\n",
       "      <td></td>\n",
       "      <td>False</td>\n",
       "      <td>False</td>\n",
       "    </tr>\n",
       "    <tr>\n",
       "      <th>3</th>\n",
       "      <td>737265056</td>\n",
       "      <td>737265056</td>\n",
       "      <td>5000.0</td>\n",
       "      <td>5000.00</td>\n",
       "      <td>2016-12-10T02:14:50</td>\n",
       "      <td>7.47</td>\n",
       "      <td>Play Store</td>\n",
       "      <td>US</td>\n",
       "      <td>US</td>\n",
       "      <td>09</td>\n",
       "      <td>...</td>\n",
       "      <td></td>\n",
       "      <td>0.00</td>\n",
       "      <td></td>\n",
       "      <td></td>\n",
       "      <td></td>\n",
       "      <td>False</td>\n",
       "      <td></td>\n",
       "      <td></td>\n",
       "      <td>False</td>\n",
       "      <td>False</td>\n",
       "    </tr>\n",
       "    <tr>\n",
       "      <th>4</th>\n",
       "      <td>830329091</td>\n",
       "      <td>830329091</td>\n",
       "      <td>5000.0</td>\n",
       "      <td>5000.00</td>\n",
       "      <td>2016-03-24T21:04:46</td>\n",
       "      <td>71.18</td>\n",
       "      <td>Tim Hortons #947751</td>\n",
       "      <td>US</td>\n",
       "      <td>US</td>\n",
       "      <td>02</td>\n",
       "      <td>...</td>\n",
       "      <td></td>\n",
       "      <td>0.00</td>\n",
       "      <td></td>\n",
       "      <td></td>\n",
       "      <td></td>\n",
       "      <td>True</td>\n",
       "      <td></td>\n",
       "      <td></td>\n",
       "      <td>False</td>\n",
       "      <td>False</td>\n",
       "    </tr>\n",
       "    <tr>\n",
       "      <th>...</th>\n",
       "      <td>...</td>\n",
       "      <td>...</td>\n",
       "      <td>...</td>\n",
       "      <td>...</td>\n",
       "      <td>...</td>\n",
       "      <td>...</td>\n",
       "      <td>...</td>\n",
       "      <td>...</td>\n",
       "      <td>...</td>\n",
       "      <td>...</td>\n",
       "      <td>...</td>\n",
       "      <td>...</td>\n",
       "      <td>...</td>\n",
       "      <td>...</td>\n",
       "      <td>...</td>\n",
       "      <td>...</td>\n",
       "      <td>...</td>\n",
       "      <td>...</td>\n",
       "      <td>...</td>\n",
       "      <td>...</td>\n",
       "      <td>...</td>\n",
       "    </tr>\n",
       "    <tr>\n",
       "      <th>786358</th>\n",
       "      <td>732852505</td>\n",
       "      <td>732852505</td>\n",
       "      <td>50000.0</td>\n",
       "      <td>48904.96</td>\n",
       "      <td>2016-12-22T18:44:12</td>\n",
       "      <td>119.92</td>\n",
       "      <td>Lyft</td>\n",
       "      <td>US</td>\n",
       "      <td>US</td>\n",
       "      <td>90</td>\n",
       "      <td>...</td>\n",
       "      <td></td>\n",
       "      <td>1095.04</td>\n",
       "      <td></td>\n",
       "      <td></td>\n",
       "      <td></td>\n",
       "      <td>False</td>\n",
       "      <td></td>\n",
       "      <td></td>\n",
       "      <td>False</td>\n",
       "      <td>False</td>\n",
       "    </tr>\n",
       "    <tr>\n",
       "      <th>786359</th>\n",
       "      <td>732852505</td>\n",
       "      <td>732852505</td>\n",
       "      <td>50000.0</td>\n",
       "      <td>48785.04</td>\n",
       "      <td>2016-12-25T16:20:34</td>\n",
       "      <td>18.89</td>\n",
       "      <td>hulu.com</td>\n",
       "      <td>US</td>\n",
       "      <td>US</td>\n",
       "      <td>09</td>\n",
       "      <td>...</td>\n",
       "      <td></td>\n",
       "      <td>1214.96</td>\n",
       "      <td></td>\n",
       "      <td></td>\n",
       "      <td></td>\n",
       "      <td>False</td>\n",
       "      <td></td>\n",
       "      <td></td>\n",
       "      <td>False</td>\n",
       "      <td>False</td>\n",
       "    </tr>\n",
       "    <tr>\n",
       "      <th>786360</th>\n",
       "      <td>732852505</td>\n",
       "      <td>732852505</td>\n",
       "      <td>50000.0</td>\n",
       "      <td>48766.15</td>\n",
       "      <td>2016-12-27T15:46:24</td>\n",
       "      <td>49.43</td>\n",
       "      <td>Lyft</td>\n",
       "      <td>US</td>\n",
       "      <td>US</td>\n",
       "      <td>02</td>\n",
       "      <td>...</td>\n",
       "      <td></td>\n",
       "      <td>1233.85</td>\n",
       "      <td></td>\n",
       "      <td></td>\n",
       "      <td></td>\n",
       "      <td>False</td>\n",
       "      <td></td>\n",
       "      <td></td>\n",
       "      <td>False</td>\n",
       "      <td>False</td>\n",
       "    </tr>\n",
       "    <tr>\n",
       "      <th>786361</th>\n",
       "      <td>732852505</td>\n",
       "      <td>732852505</td>\n",
       "      <td>50000.0</td>\n",
       "      <td>48716.72</td>\n",
       "      <td>2016-12-29T00:30:55</td>\n",
       "      <td>49.89</td>\n",
       "      <td>walmart.com</td>\n",
       "      <td>US</td>\n",
       "      <td>US</td>\n",
       "      <td>09</td>\n",
       "      <td>...</td>\n",
       "      <td></td>\n",
       "      <td>1283.28</td>\n",
       "      <td></td>\n",
       "      <td></td>\n",
       "      <td></td>\n",
       "      <td>False</td>\n",
       "      <td></td>\n",
       "      <td></td>\n",
       "      <td>False</td>\n",
       "      <td>False</td>\n",
       "    </tr>\n",
       "    <tr>\n",
       "      <th>786362</th>\n",
       "      <td>732852505</td>\n",
       "      <td>732852505</td>\n",
       "      <td>50000.0</td>\n",
       "      <td>48666.83</td>\n",
       "      <td>2016-12-30T20:10:29</td>\n",
       "      <td>72.18</td>\n",
       "      <td>Uber</td>\n",
       "      <td>US</td>\n",
       "      <td>US</td>\n",
       "      <td>05</td>\n",
       "      <td>...</td>\n",
       "      <td></td>\n",
       "      <td>1333.17</td>\n",
       "      <td></td>\n",
       "      <td></td>\n",
       "      <td></td>\n",
       "      <td>False</td>\n",
       "      <td></td>\n",
       "      <td></td>\n",
       "      <td>False</td>\n",
       "      <td>False</td>\n",
       "    </tr>\n",
       "  </tbody>\n",
       "</table>\n",
       "<p>786363 rows × 29 columns</p>\n",
       "</div>"
      ],
      "text/plain": [
       "       accountNumber customerId  creditLimit  availableMoney  \\\n",
       "0          737265056  737265056       5000.0         5000.00   \n",
       "1          737265056  737265056       5000.0         5000.00   \n",
       "2          737265056  737265056       5000.0         5000.00   \n",
       "3          737265056  737265056       5000.0         5000.00   \n",
       "4          830329091  830329091       5000.0         5000.00   \n",
       "...              ...        ...          ...             ...   \n",
       "786358     732852505  732852505      50000.0        48904.96   \n",
       "786359     732852505  732852505      50000.0        48785.04   \n",
       "786360     732852505  732852505      50000.0        48766.15   \n",
       "786361     732852505  732852505      50000.0        48716.72   \n",
       "786362     732852505  732852505      50000.0        48666.83   \n",
       "\n",
       "        transactionDateTime  transactionAmount         merchantName  \\\n",
       "0       2016-08-13T14:27:32              98.55                 Uber   \n",
       "1       2016-10-11T05:05:54              74.51          AMC #191138   \n",
       "2       2016-11-08T09:18:39               7.47           Play Store   \n",
       "3       2016-12-10T02:14:50               7.47           Play Store   \n",
       "4       2016-03-24T21:04:46              71.18  Tim Hortons #947751   \n",
       "...                     ...                ...                  ...   \n",
       "786358  2016-12-22T18:44:12             119.92                 Lyft   \n",
       "786359  2016-12-25T16:20:34              18.89             hulu.com   \n",
       "786360  2016-12-27T15:46:24              49.43                 Lyft   \n",
       "786361  2016-12-29T00:30:55              49.89          walmart.com   \n",
       "786362  2016-12-30T20:10:29              72.18                 Uber   \n",
       "\n",
       "       acqCountry merchantCountryCode posEntryMode  ... echoBuffer  \\\n",
       "0              US                  US           02  ...              \n",
       "1              US                  US           09  ...              \n",
       "2              US                  US           09  ...              \n",
       "3              US                  US           09  ...              \n",
       "4              US                  US           02  ...              \n",
       "...           ...                 ...          ...  ...        ...   \n",
       "786358         US                  US           90  ...              \n",
       "786359         US                  US           09  ...              \n",
       "786360         US                  US           02  ...              \n",
       "786361         US                  US           09  ...              \n",
       "786362         US                  US           05  ...              \n",
       "\n",
       "       currentBalance merchantCity merchantState merchantZip cardPresent  \\\n",
       "0                0.00                                              False   \n",
       "1                0.00                                               True   \n",
       "2                0.00                                              False   \n",
       "3                0.00                                              False   \n",
       "4                0.00                                               True   \n",
       "...               ...          ...           ...         ...         ...   \n",
       "786358        1095.04                                              False   \n",
       "786359        1214.96                                              False   \n",
       "786360        1233.85                                              False   \n",
       "786361        1283.28                                              False   \n",
       "786362        1333.17                                              False   \n",
       "\n",
       "       posOnPremises recurringAuthInd expirationDateKeyInMatch isFraud  \n",
       "0                                                        False   False  \n",
       "1                                                        False   False  \n",
       "2                                                        False   False  \n",
       "3                                                        False   False  \n",
       "4                                                        False   False  \n",
       "...              ...              ...                      ...     ...  \n",
       "786358                                                   False   False  \n",
       "786359                                                   False   False  \n",
       "786360                                                   False   False  \n",
       "786361                                                   False   False  \n",
       "786362                                                   False   False  \n",
       "\n",
       "[786363 rows x 29 columns]"
      ]
     },
     "execution_count": 4,
     "metadata": {},
     "output_type": "execute_result"
    }
   ],
   "source": [
    "transactions"
   ]
  },
  {
   "cell_type": "markdown",
   "metadata": {},
   "source": [
    "## 3. Clean empty values<a id='3._Clean'></a>\n"
   ]
  },
  {
   "cell_type": "code",
   "execution_count": 5,
   "metadata": {},
   "outputs": [
    {
     "data": {
      "text/plain": [
       "(786363, 29)"
      ]
     },
     "execution_count": 5,
     "metadata": {},
     "output_type": "execute_result"
    }
   ],
   "source": [
    "transactions.shape"
   ]
  },
  {
   "cell_type": "code",
   "execution_count": 6,
   "metadata": {},
   "outputs": [],
   "source": [
    "# too big cut to half use iloc for slicing on index\n",
    "transactions = transactions.iloc[50000:,:]"
   ]
  },
  {
   "cell_type": "code",
   "execution_count": 7,
   "metadata": {},
   "outputs": [],
   "source": [
    "# replace empty string with Nan\n",
    "transactions_Nan = transactions.replace('', np.nan)"
   ]
  },
  {
   "cell_type": "code",
   "execution_count": 8,
   "metadata": {},
   "outputs": [],
   "source": [
    "# drop all Nan column\n",
    "transactions_dropped = transactions_Nan.dropna(how='all',axis= 1)"
   ]
  },
  {
   "cell_type": "code",
   "execution_count": 9,
   "metadata": {},
   "outputs": [
    {
     "data": {
      "text/html": [
       "<div>\n",
       "<style scoped>\n",
       "    .dataframe tbody tr th:only-of-type {\n",
       "        vertical-align: middle;\n",
       "    }\n",
       "\n",
       "    .dataframe tbody tr th {\n",
       "        vertical-align: top;\n",
       "    }\n",
       "\n",
       "    .dataframe thead th {\n",
       "        text-align: right;\n",
       "    }\n",
       "</style>\n",
       "<table border=\"1\" class=\"dataframe\">\n",
       "  <thead>\n",
       "    <tr style=\"text-align: right;\">\n",
       "      <th></th>\n",
       "      <th>accountNumber</th>\n",
       "      <th>customerId</th>\n",
       "      <th>creditLimit</th>\n",
       "      <th>availableMoney</th>\n",
       "      <th>transactionDateTime</th>\n",
       "      <th>transactionAmount</th>\n",
       "      <th>merchantName</th>\n",
       "      <th>acqCountry</th>\n",
       "      <th>merchantCountryCode</th>\n",
       "      <th>posEntryMode</th>\n",
       "      <th>...</th>\n",
       "      <th>accountOpenDate</th>\n",
       "      <th>dateOfLastAddressChange</th>\n",
       "      <th>cardCVV</th>\n",
       "      <th>enteredCVV</th>\n",
       "      <th>cardLast4Digits</th>\n",
       "      <th>transactionType</th>\n",
       "      <th>currentBalance</th>\n",
       "      <th>cardPresent</th>\n",
       "      <th>expirationDateKeyInMatch</th>\n",
       "      <th>isFraud</th>\n",
       "    </tr>\n",
       "  </thead>\n",
       "  <tbody>\n",
       "    <tr>\n",
       "      <th>50000</th>\n",
       "      <td>246251253</td>\n",
       "      <td>246251253</td>\n",
       "      <td>5000.0</td>\n",
       "      <td>624.04</td>\n",
       "      <td>2016-01-20T19:00:48</td>\n",
       "      <td>352.62</td>\n",
       "      <td>Domino's Pizza #347016</td>\n",
       "      <td>US</td>\n",
       "      <td>US</td>\n",
       "      <td>02</td>\n",
       "      <td>...</td>\n",
       "      <td>2014-10-02</td>\n",
       "      <td>2016-01-19</td>\n",
       "      <td>455</td>\n",
       "      <td>455</td>\n",
       "      <td>6002</td>\n",
       "      <td>PURCHASE</td>\n",
       "      <td>4375.96</td>\n",
       "      <td>True</td>\n",
       "      <td>False</td>\n",
       "      <td>False</td>\n",
       "    </tr>\n",
       "    <tr>\n",
       "      <th>50001</th>\n",
       "      <td>246251253</td>\n",
       "      <td>246251253</td>\n",
       "      <td>5000.0</td>\n",
       "      <td>271.42</td>\n",
       "      <td>2016-01-20T19:37:11</td>\n",
       "      <td>22.96</td>\n",
       "      <td>amazon.com</td>\n",
       "      <td>MEX</td>\n",
       "      <td>MEX</td>\n",
       "      <td>02</td>\n",
       "      <td>...</td>\n",
       "      <td>2014-10-02</td>\n",
       "      <td>2016-01-19</td>\n",
       "      <td>455</td>\n",
       "      <td>455</td>\n",
       "      <td>6002</td>\n",
       "      <td>PURCHASE</td>\n",
       "      <td>4728.58</td>\n",
       "      <td>False</td>\n",
       "      <td>False</td>\n",
       "      <td>False</td>\n",
       "    </tr>\n",
       "    <tr>\n",
       "      <th>50002</th>\n",
       "      <td>246251253</td>\n",
       "      <td>246251253</td>\n",
       "      <td>5000.0</td>\n",
       "      <td>1677.46</td>\n",
       "      <td>2016-01-20T19:45:23</td>\n",
       "      <td>102.76</td>\n",
       "      <td>discount.com</td>\n",
       "      <td>US</td>\n",
       "      <td>US</td>\n",
       "      <td>02</td>\n",
       "      <td>...</td>\n",
       "      <td>2014-10-02</td>\n",
       "      <td>2016-01-19</td>\n",
       "      <td>455</td>\n",
       "      <td>455</td>\n",
       "      <td>6002</td>\n",
       "      <td>PURCHASE</td>\n",
       "      <td>3322.54</td>\n",
       "      <td>False</td>\n",
       "      <td>False</td>\n",
       "      <td>False</td>\n",
       "    </tr>\n",
       "    <tr>\n",
       "      <th>50003</th>\n",
       "      <td>246251253</td>\n",
       "      <td>246251253</td>\n",
       "      <td>5000.0</td>\n",
       "      <td>1574.70</td>\n",
       "      <td>2016-01-20T19:52:39</td>\n",
       "      <td>41.50</td>\n",
       "      <td>Shake Shack #332129</td>\n",
       "      <td>US</td>\n",
       "      <td>US</td>\n",
       "      <td>05</td>\n",
       "      <td>...</td>\n",
       "      <td>2014-10-02</td>\n",
       "      <td>2016-01-19</td>\n",
       "      <td>455</td>\n",
       "      <td>455</td>\n",
       "      <td>6002</td>\n",
       "      <td>PURCHASE</td>\n",
       "      <td>3425.30</td>\n",
       "      <td>True</td>\n",
       "      <td>False</td>\n",
       "      <td>False</td>\n",
       "    </tr>\n",
       "    <tr>\n",
       "      <th>50004</th>\n",
       "      <td>246251253</td>\n",
       "      <td>246251253</td>\n",
       "      <td>5000.0</td>\n",
       "      <td>1533.20</td>\n",
       "      <td>2016-01-20T20:40:56</td>\n",
       "      <td>241.64</td>\n",
       "      <td>Dunkin' Donuts #237164</td>\n",
       "      <td>US</td>\n",
       "      <td>US</td>\n",
       "      <td>09</td>\n",
       "      <td>...</td>\n",
       "      <td>2014-10-02</td>\n",
       "      <td>2016-01-19</td>\n",
       "      <td>455</td>\n",
       "      <td>455</td>\n",
       "      <td>6002</td>\n",
       "      <td>PURCHASE</td>\n",
       "      <td>3466.80</td>\n",
       "      <td>True</td>\n",
       "      <td>False</td>\n",
       "      <td>False</td>\n",
       "    </tr>\n",
       "    <tr>\n",
       "      <th>...</th>\n",
       "      <td>...</td>\n",
       "      <td>...</td>\n",
       "      <td>...</td>\n",
       "      <td>...</td>\n",
       "      <td>...</td>\n",
       "      <td>...</td>\n",
       "      <td>...</td>\n",
       "      <td>...</td>\n",
       "      <td>...</td>\n",
       "      <td>...</td>\n",
       "      <td>...</td>\n",
       "      <td>...</td>\n",
       "      <td>...</td>\n",
       "      <td>...</td>\n",
       "      <td>...</td>\n",
       "      <td>...</td>\n",
       "      <td>...</td>\n",
       "      <td>...</td>\n",
       "      <td>...</td>\n",
       "      <td>...</td>\n",
       "      <td>...</td>\n",
       "    </tr>\n",
       "    <tr>\n",
       "      <th>786358</th>\n",
       "      <td>732852505</td>\n",
       "      <td>732852505</td>\n",
       "      <td>50000.0</td>\n",
       "      <td>48904.96</td>\n",
       "      <td>2016-12-22T18:44:12</td>\n",
       "      <td>119.92</td>\n",
       "      <td>Lyft</td>\n",
       "      <td>US</td>\n",
       "      <td>US</td>\n",
       "      <td>90</td>\n",
       "      <td>...</td>\n",
       "      <td>2012-08-23</td>\n",
       "      <td>2012-08-23</td>\n",
       "      <td>936</td>\n",
       "      <td>936</td>\n",
       "      <td>3783</td>\n",
       "      <td>PURCHASE</td>\n",
       "      <td>1095.04</td>\n",
       "      <td>False</td>\n",
       "      <td>False</td>\n",
       "      <td>False</td>\n",
       "    </tr>\n",
       "    <tr>\n",
       "      <th>786359</th>\n",
       "      <td>732852505</td>\n",
       "      <td>732852505</td>\n",
       "      <td>50000.0</td>\n",
       "      <td>48785.04</td>\n",
       "      <td>2016-12-25T16:20:34</td>\n",
       "      <td>18.89</td>\n",
       "      <td>hulu.com</td>\n",
       "      <td>US</td>\n",
       "      <td>US</td>\n",
       "      <td>09</td>\n",
       "      <td>...</td>\n",
       "      <td>2012-08-23</td>\n",
       "      <td>2012-08-23</td>\n",
       "      <td>939</td>\n",
       "      <td>939</td>\n",
       "      <td>3388</td>\n",
       "      <td>PURCHASE</td>\n",
       "      <td>1214.96</td>\n",
       "      <td>False</td>\n",
       "      <td>False</td>\n",
       "      <td>False</td>\n",
       "    </tr>\n",
       "    <tr>\n",
       "      <th>786360</th>\n",
       "      <td>732852505</td>\n",
       "      <td>732852505</td>\n",
       "      <td>50000.0</td>\n",
       "      <td>48766.15</td>\n",
       "      <td>2016-12-27T15:46:24</td>\n",
       "      <td>49.43</td>\n",
       "      <td>Lyft</td>\n",
       "      <td>US</td>\n",
       "      <td>US</td>\n",
       "      <td>02</td>\n",
       "      <td>...</td>\n",
       "      <td>2012-08-23</td>\n",
       "      <td>2012-08-23</td>\n",
       "      <td>936</td>\n",
       "      <td>936</td>\n",
       "      <td>3783</td>\n",
       "      <td>PURCHASE</td>\n",
       "      <td>1233.85</td>\n",
       "      <td>False</td>\n",
       "      <td>False</td>\n",
       "      <td>False</td>\n",
       "    </tr>\n",
       "    <tr>\n",
       "      <th>786361</th>\n",
       "      <td>732852505</td>\n",
       "      <td>732852505</td>\n",
       "      <td>50000.0</td>\n",
       "      <td>48716.72</td>\n",
       "      <td>2016-12-29T00:30:55</td>\n",
       "      <td>49.89</td>\n",
       "      <td>walmart.com</td>\n",
       "      <td>US</td>\n",
       "      <td>US</td>\n",
       "      <td>09</td>\n",
       "      <td>...</td>\n",
       "      <td>2012-08-23</td>\n",
       "      <td>2012-08-23</td>\n",
       "      <td>939</td>\n",
       "      <td>939</td>\n",
       "      <td>3388</td>\n",
       "      <td>PURCHASE</td>\n",
       "      <td>1283.28</td>\n",
       "      <td>False</td>\n",
       "      <td>False</td>\n",
       "      <td>False</td>\n",
       "    </tr>\n",
       "    <tr>\n",
       "      <th>786362</th>\n",
       "      <td>732852505</td>\n",
       "      <td>732852505</td>\n",
       "      <td>50000.0</td>\n",
       "      <td>48666.83</td>\n",
       "      <td>2016-12-30T20:10:29</td>\n",
       "      <td>72.18</td>\n",
       "      <td>Uber</td>\n",
       "      <td>US</td>\n",
       "      <td>US</td>\n",
       "      <td>05</td>\n",
       "      <td>...</td>\n",
       "      <td>2012-08-23</td>\n",
       "      <td>2012-08-23</td>\n",
       "      <td>939</td>\n",
       "      <td>939</td>\n",
       "      <td>3388</td>\n",
       "      <td>PURCHASE</td>\n",
       "      <td>1333.17</td>\n",
       "      <td>False</td>\n",
       "      <td>False</td>\n",
       "      <td>False</td>\n",
       "    </tr>\n",
       "  </tbody>\n",
       "</table>\n",
       "<p>736363 rows × 23 columns</p>\n",
       "</div>"
      ],
      "text/plain": [
       "       accountNumber customerId  creditLimit  availableMoney  \\\n",
       "50000      246251253  246251253       5000.0          624.04   \n",
       "50001      246251253  246251253       5000.0          271.42   \n",
       "50002      246251253  246251253       5000.0         1677.46   \n",
       "50003      246251253  246251253       5000.0         1574.70   \n",
       "50004      246251253  246251253       5000.0         1533.20   \n",
       "...              ...        ...          ...             ...   \n",
       "786358     732852505  732852505      50000.0        48904.96   \n",
       "786359     732852505  732852505      50000.0        48785.04   \n",
       "786360     732852505  732852505      50000.0        48766.15   \n",
       "786361     732852505  732852505      50000.0        48716.72   \n",
       "786362     732852505  732852505      50000.0        48666.83   \n",
       "\n",
       "        transactionDateTime  transactionAmount            merchantName  \\\n",
       "50000   2016-01-20T19:00:48             352.62  Domino's Pizza #347016   \n",
       "50001   2016-01-20T19:37:11              22.96              amazon.com   \n",
       "50002   2016-01-20T19:45:23             102.76            discount.com   \n",
       "50003   2016-01-20T19:52:39              41.50     Shake Shack #332129   \n",
       "50004   2016-01-20T20:40:56             241.64  Dunkin' Donuts #237164   \n",
       "...                     ...                ...                     ...   \n",
       "786358  2016-12-22T18:44:12             119.92                    Lyft   \n",
       "786359  2016-12-25T16:20:34              18.89                hulu.com   \n",
       "786360  2016-12-27T15:46:24              49.43                    Lyft   \n",
       "786361  2016-12-29T00:30:55              49.89             walmart.com   \n",
       "786362  2016-12-30T20:10:29              72.18                    Uber   \n",
       "\n",
       "       acqCountry merchantCountryCode posEntryMode  ... accountOpenDate  \\\n",
       "50000          US                  US           02  ...      2014-10-02   \n",
       "50001         MEX                 MEX           02  ...      2014-10-02   \n",
       "50002          US                  US           02  ...      2014-10-02   \n",
       "50003          US                  US           05  ...      2014-10-02   \n",
       "50004          US                  US           09  ...      2014-10-02   \n",
       "...           ...                 ...          ...  ...             ...   \n",
       "786358         US                  US           90  ...      2012-08-23   \n",
       "786359         US                  US           09  ...      2012-08-23   \n",
       "786360         US                  US           02  ...      2012-08-23   \n",
       "786361         US                  US           09  ...      2012-08-23   \n",
       "786362         US                  US           05  ...      2012-08-23   \n",
       "\n",
       "       dateOfLastAddressChange cardCVV enteredCVV cardLast4Digits  \\\n",
       "50000               2016-01-19     455        455            6002   \n",
       "50001               2016-01-19     455        455            6002   \n",
       "50002               2016-01-19     455        455            6002   \n",
       "50003               2016-01-19     455        455            6002   \n",
       "50004               2016-01-19     455        455            6002   \n",
       "...                        ...     ...        ...             ...   \n",
       "786358              2012-08-23     936        936            3783   \n",
       "786359              2012-08-23     939        939            3388   \n",
       "786360              2012-08-23     936        936            3783   \n",
       "786361              2012-08-23     939        939            3388   \n",
       "786362              2012-08-23     939        939            3388   \n",
       "\n",
       "       transactionType currentBalance cardPresent expirationDateKeyInMatch  \\\n",
       "50000         PURCHASE        4375.96        True                    False   \n",
       "50001         PURCHASE        4728.58       False                    False   \n",
       "50002         PURCHASE        3322.54       False                    False   \n",
       "50003         PURCHASE        3425.30        True                    False   \n",
       "50004         PURCHASE        3466.80        True                    False   \n",
       "...                ...            ...         ...                      ...   \n",
       "786358        PURCHASE        1095.04       False                    False   \n",
       "786359        PURCHASE        1214.96       False                    False   \n",
       "786360        PURCHASE        1233.85       False                    False   \n",
       "786361        PURCHASE        1283.28       False                    False   \n",
       "786362        PURCHASE        1333.17       False                    False   \n",
       "\n",
       "        isFraud  \n",
       "50000     False  \n",
       "50001     False  \n",
       "50002     False  \n",
       "50003     False  \n",
       "50004     False  \n",
       "...         ...  \n",
       "786358    False  \n",
       "786359    False  \n",
       "786360    False  \n",
       "786361    False  \n",
       "786362    False  \n",
       "\n",
       "[736363 rows x 23 columns]"
      ]
     },
     "execution_count": 9,
     "metadata": {},
     "output_type": "execute_result"
    }
   ],
   "source": [
    "# check if successfuly dropped\n",
    "#  6 columns have been dropped\n",
    "transactions_dropped"
   ]
  },
  {
   "cell_type": "code",
   "execution_count": 10,
   "metadata": {},
   "outputs": [
    {
     "data": {
      "text/plain": [
       "accountNumber                  0\n",
       "customerId                     0\n",
       "creditLimit                    0\n",
       "availableMoney                 0\n",
       "transactionDateTime            0\n",
       "transactionAmount              0\n",
       "merchantName                   0\n",
       "acqCountry                  4298\n",
       "merchantCountryCode          679\n",
       "posEntryMode                3772\n",
       "posConditionCode             379\n",
       "merchantCategoryCode           0\n",
       "currentExpDate                 0\n",
       "accountOpenDate                0\n",
       "dateOfLastAddressChange        0\n",
       "cardCVV                        0\n",
       "enteredCVV                     0\n",
       "cardLast4Digits                0\n",
       "transactionType              656\n",
       "currentBalance                 0\n",
       "cardPresent                    0\n",
       "expirationDateKeyInMatch       0\n",
       "isFraud                        0\n",
       "dtype: int64"
      ]
     },
     "execution_count": 10,
     "metadata": {},
     "output_type": "execute_result"
    }
   ],
   "source": [
    "# check how many Nan values in each column\n",
    "transactions_dropped.isnull().sum()"
   ]
  },
  {
   "cell_type": "code",
   "execution_count": 11,
   "metadata": {},
   "outputs": [],
   "source": [
    "# drop rows with any Nan\n",
    "transactions_dropped = transactions_dropped.dropna(how = 'any', axis = 0)"
   ]
  },
  {
   "cell_type": "code",
   "execution_count": 12,
   "metadata": {
    "scrolled": true
   },
   "outputs": [
    {
     "data": {
      "text/plain": [
       "accountNumber               0\n",
       "customerId                  0\n",
       "creditLimit                 0\n",
       "availableMoney              0\n",
       "transactionDateTime         0\n",
       "transactionAmount           0\n",
       "merchantName                0\n",
       "acqCountry                  0\n",
       "merchantCountryCode         0\n",
       "posEntryMode                0\n",
       "posConditionCode            0\n",
       "merchantCategoryCode        0\n",
       "currentExpDate              0\n",
       "accountOpenDate             0\n",
       "dateOfLastAddressChange     0\n",
       "cardCVV                     0\n",
       "enteredCVV                  0\n",
       "cardLast4Digits             0\n",
       "transactionType             0\n",
       "currentBalance              0\n",
       "cardPresent                 0\n",
       "expirationDateKeyInMatch    0\n",
       "isFraud                     0\n",
       "dtype: int64"
      ]
     },
     "execution_count": 12,
     "metadata": {},
     "output_type": "execute_result"
    }
   ],
   "source": [
    "# check no Nan values on any row\n",
    "transactions_dropped.isnull().sum()"
   ]
  },
  {
   "cell_type": "markdown",
   "metadata": {},
   "source": [
    "## 4. Data Types Problem<a id='4._Data_Types'></a>\n",
    "\n"
   ]
  },
  {
   "cell_type": "markdown",
   "metadata": {},
   "source": [
    "Let's see if all the data are in a usable form"
   ]
  },
  {
   "cell_type": "code",
   "execution_count": 13,
   "metadata": {},
   "outputs": [
    {
     "data": {
      "text/plain": [
       "accountNumber                object\n",
       "customerId                   object\n",
       "creditLimit                 float64\n",
       "availableMoney              float64\n",
       "transactionDateTime          object\n",
       "transactionAmount           float64\n",
       "merchantName                 object\n",
       "acqCountry                   object\n",
       "merchantCountryCode          object\n",
       "posEntryMode                 object\n",
       "posConditionCode             object\n",
       "merchantCategoryCode         object\n",
       "currentExpDate               object\n",
       "accountOpenDate              object\n",
       "dateOfLastAddressChange      object\n",
       "cardCVV                      object\n",
       "enteredCVV                   object\n",
       "cardLast4Digits              object\n",
       "transactionType              object\n",
       "currentBalance              float64\n",
       "cardPresent                    bool\n",
       "expirationDateKeyInMatch       bool\n",
       "isFraud                        bool\n",
       "dtype: object"
      ]
     },
     "execution_count": 13,
     "metadata": {},
     "output_type": "execute_result"
    }
   ],
   "source": [
    "transactions_dropped.dtypes"
   ]
  },
  {
   "cell_type": "markdown",
   "metadata": {},
   "source": [
    "### 4.1 Change Datetime"
   ]
  },
  {
   "cell_type": "markdown",
   "metadata": {},
   "source": [
    "We can change date entries to date time objects. That is the column:\n",
    "1. transactionDateTime\n",
    "2. currentExpDate\n",
    "3. accountOpenDate\n",
    "4. dateOfLastAddressChange"
   ]
  },
  {
   "cell_type": "code",
   "execution_count": 14,
   "metadata": {},
   "outputs": [],
   "source": [
    "columns_to_change = ['transactionDateTime','currentExpDate','accountOpenDate','dateOfLastAddressChange']\n",
    "for column in columns_to_change:\n",
    "#     transactions_dropped.loc[:,column] = pd.to_datetime(transactions_dropped[column])\n",
    "    transactions_dropped.loc[:,column] = pd.to_datetime(transactions_dropped[column].copy())\n",
    "    \n",
    "    \n",
    "# pd.to_datetime takes series as argument\n",
    "# dont need to do loc on the assignment RHS\n",
    "    "
   ]
  },
  {
   "cell_type": "code",
   "execution_count": 15,
   "metadata": {},
   "outputs": [],
   "source": [
    "# Cannot do:\n",
    "\n",
    "# 1. transactions_dropped.loc[:,column] = transactions_dropped.loc[:,column].apply(pd.to_datetime, errors = 'coerce')\n",
    "\n",
    "# 2. for column in columns_to_change:\n",
    "#     transactions_dropped[column] = pd.to_datetime(transactions_dropped[column])\n",
    "\n",
    "#     transactions_dropped.loc[:,column] = pd.to_datetime(transactions_dropped.loc[:,column])\n",
    "\n",
    "# the key is put pd.to_datetime at the front. and also do .loc"
   ]
  },
  {
   "cell_type": "code",
   "execution_count": 16,
   "metadata": {},
   "outputs": [
    {
     "data": {
      "text/plain": [
       "accountNumber                       object\n",
       "customerId                          object\n",
       "creditLimit                        float64\n",
       "availableMoney                     float64\n",
       "transactionDateTime         datetime64[ns]\n",
       "transactionAmount                  float64\n",
       "merchantName                        object\n",
       "acqCountry                          object\n",
       "merchantCountryCode                 object\n",
       "posEntryMode                        object\n",
       "posConditionCode                    object\n",
       "merchantCategoryCode                object\n",
       "currentExpDate              datetime64[ns]\n",
       "accountOpenDate             datetime64[ns]\n",
       "dateOfLastAddressChange     datetime64[ns]\n",
       "cardCVV                             object\n",
       "enteredCVV                          object\n",
       "cardLast4Digits                     object\n",
       "transactionType                     object\n",
       "currentBalance                     float64\n",
       "cardPresent                           bool\n",
       "expirationDateKeyInMatch              bool\n",
       "isFraud                               bool\n",
       "dtype: object"
      ]
     },
     "execution_count": 16,
     "metadata": {},
     "output_type": "execute_result"
    }
   ],
   "source": [
    "transactions_dropped.dtypes"
   ]
  },
  {
   "cell_type": "markdown",
   "metadata": {},
   "source": [
    "## 5. Profiling<a id='5._Profiling'></a>"
   ]
  },
  {
   "cell_type": "code",
   "execution_count": 17,
   "metadata": {},
   "outputs": [],
   "source": [
    "# profile = ProfileReport(transactions_dropped, title = 'Profile Report')"
   ]
  },
  {
   "cell_type": "code",
   "execution_count": 18,
   "metadata": {},
   "outputs": [],
   "source": [
    "# profile"
   ]
  },
  {
   "cell_type": "markdown",
   "metadata": {},
   "source": [
    "## 5 Profiling Summary"
   ]
  },
  {
   "cell_type": "markdown",
   "metadata": {},
   "source": [
    "1. Total Fraud: \n",
    "\n",
    "    - Only 11513 out of 756363 of transactions are fraud, which means only 1.5% are fraudulent. This is very small.\n",
    "\n",
    "2. Date type:\n",
    "\n",
    "    - Everything looks normal: Transaction starts from January 2016 to December 30th\n",
    "\n",
    "\n",
    "3. Categorical:\n",
    "\n",
    "    - Account number\n",
    "    - customerID: looks like its identical to account number\n",
    "    - transaction type: Does fraud occur in transaction type other than purchase ? if not, we can get rid of it\n",
    "    - merchantName: check for duplicates\n",
    "    - cardLast4Digits: some only has 2 digits, does this mean fraud?\n",
    "\n",
    "\n",
    "4. Numerical:\n",
    "\n",
    "    - Balance:\n",
    "    Need to deal with zeros and extreme values\n",
    "\n",
    "    - Transaction amount: \n",
    "There seems to be a high correlation between transaction amount and fraudulence\n"
   ]
  },
  {
   "cell_type": "markdown",
   "metadata": {},
   "source": [
    "## 6 Drop columns<a id='6._Drop_columns'></a>"
   ]
  },
  {
   "cell_type": "markdown",
   "metadata": {},
   "source": [
    "From the above profiling it seems like there are no duplicate rows, but lets check for duplicate columns"
   ]
  },
  {
   "cell_type": "markdown",
   "metadata": {},
   "source": [
    "### 6.1 Duplicate column"
   ]
  },
  {
   "cell_type": "markdown",
   "metadata": {},
   "source": [
    "1. Check if customer Id is the same as account number"
   ]
  },
  {
   "cell_type": "code",
   "execution_count": 19,
   "metadata": {},
   "outputs": [
    {
     "data": {
      "text/plain": [
       "True    727282\n",
       "dtype: int64"
      ]
     },
     "execution_count": 19,
     "metadata": {},
     "output_type": "execute_result"
    }
   ],
   "source": [
    "(transactions_dropped['customerId']==transactions_dropped['accountNumber']).value_counts()"
   ]
  },
  {
   "cell_type": "markdown",
   "metadata": {},
   "source": [
    "The true entry count is the same as total number of rows, they are the same. so let's remove them"
   ]
  },
  {
   "cell_type": "code",
   "execution_count": 20,
   "metadata": {},
   "outputs": [],
   "source": [
    "transactions_dropped = transactions_dropped.drop(columns='customerId')"
   ]
  },
  {
   "cell_type": "markdown",
   "metadata": {},
   "source": [
    "2. Check if acqCountry is the same as merchant countrycode"
   ]
  },
  {
   "cell_type": "code",
   "execution_count": 21,
   "metadata": {},
   "outputs": [
    {
     "data": {
      "text/plain": [
       "True     727218\n",
       "False        64\n",
       "dtype: int64"
      ]
     },
     "execution_count": 21,
     "metadata": {},
     "output_type": "execute_result"
    }
   ],
   "source": [
    "(transactions_dropped['acqCountry']==transactions_dropped['merchantCountryCode']).value_counts()"
   ]
  },
  {
   "cell_type": "markdown",
   "metadata": {},
   "source": [
    "not necessarily the same. so lets not remove them"
   ]
  },
  {
   "cell_type": "markdown",
   "metadata": {},
   "source": [
    "3. Check if cardCVV is the same as enteredCVV"
   ]
  },
  {
   "cell_type": "code",
   "execution_count": 22,
   "metadata": {},
   "outputs": [
    {
     "data": {
      "text/plain": [
       "(6487, 22)"
      ]
     },
     "execution_count": 22,
     "metadata": {},
     "output_type": "execute_result"
    }
   ],
   "source": [
    "transactions_dropped[(transactions_dropped['cardCVV']!=transactions_dropped['enteredCVV'])].shape"
   ]
  },
  {
   "cell_type": "markdown",
   "metadata": {},
   "source": [
    "there are 6676 unmatched CVV. We cannot drop them"
   ]
  },
  {
   "cell_type": "markdown",
   "metadata": {},
   "source": [
    "4. It may be useful to create a column of 'CVV match'"
   ]
  },
  {
   "cell_type": "code",
   "execution_count": 23,
   "metadata": {},
   "outputs": [],
   "source": [
    "transactions_dropped['CVVMatch'] = transactions_dropped['cardCVV'] == transactions_dropped['enteredCVV']\n"
   ]
  },
  {
   "cell_type": "markdown",
   "metadata": {},
   "source": [
    "Drop enteredCVV and card CVV since we already have matched CVV"
   ]
  },
  {
   "cell_type": "code",
   "execution_count": 24,
   "metadata": {},
   "outputs": [],
   "source": [
    "transactions_dropped = transactions_dropped.drop(columns=['enteredCVV','cardCVV'])"
   ]
  },
  {
   "cell_type": "markdown",
   "metadata": {},
   "source": [
    "### 6.2 Useless column"
   ]
  },
  {
   "cell_type": "markdown",
   "metadata": {},
   "source": [
    "reset index"
   ]
  },
  {
   "cell_type": "code",
   "execution_count": null,
   "metadata": {
    "scrolled": true
   },
   "outputs": [],
   "source": [
    "transactions_dropped.reset_index(drop = True)"
   ]
  },
  {
   "cell_type": "code",
   "execution_count": null,
   "metadata": {},
   "outputs": [],
   "source": [
    "transactions.dtypes"
   ]
  },
  {
   "cell_type": "markdown",
   "metadata": {},
   "source": [
    "## 7 Explore Data Entries<a id='7._Explore_Data'></a>"
   ]
  },
  {
   "cell_type": "markdown",
   "metadata": {},
   "source": [
    "### 7.1 Datetime Features <a id='7._Date_Time'></a>\n",
    "\n"
   ]
  },
  {
   "cell_type": "markdown",
   "metadata": {},
   "source": [
    "#### 7.1.1 Check if it has healthy distribution. no outliers\n",
    "\n",
    "What do I need to change about date time ?"
   ]
  },
  {
   "cell_type": "code",
   "execution_count": null,
   "metadata": {},
   "outputs": [],
   "source": [
    "# fig, axs = plt.subplots(3,2,figsize = (15,15))\n",
    "fraud_transactions = transactions_dropped[transactions_dropped.isFraud == True]\n",
    "fraud_transactions\n",
    "fraud_transactions= fraud_transactions.sort_values('transactionDateTime',ascending=True)\n",
    "transactions= transactions_dropped.sort_values('transactionDateTime',ascending=True)\n",
    "\n"
   ]
  },
  {
   "cell_type": "code",
   "execution_count": null,
   "metadata": {},
   "outputs": [],
   "source": [
    "fig, axs = plt.subplots(3,2,figsize = (15,15))\n",
    "\n",
    "# Fraud (1st column)\n",
    "axs[0][0].hist(fraud_transactions['transactionDateTime'], bins = 20)\n",
    "axs[0][0].set_xlabel('Transaction Date')\n",
    "axs[0][0].set_title('Fraud')\n",
    "\n",
    "axs[1][0].hist(fraud_transactions['dateOfLastAddressChange'], bins = 20)\n",
    "axs[1][0].set_xlabel('Last Date of Address Change')\n",
    "axs[1][0].set_title('Fraud')\n",
    "\n",
    "\n",
    "axs[2][0].hist(fraud_transactions['accountOpenDate'], bins = 20)\n",
    "axs[2][0].set_xlabel('accountOpenDate')\n",
    "axs[2][0].set_title('Fraud')\n",
    "\n",
    "# # Not Fraud (2nd Column)\n",
    "axs[0][1].hist(transactions['transactionDateTime'], bins = 50)\n",
    "axs[0][1].set_xlabel('Transaction Date')\n",
    "axs[0][1].set_title('Not Fraud')\n",
    "\n",
    "axs[1][1].hist(transactions['dateOfLastAddressChange'], bins = 50)\n",
    "axs[1][1].set_xlabel('Last Date of Address Change')\n",
    "axs[1][1].set_title('Not Fraud')\n",
    "\n",
    "axs[2][1].hist(transactions['accountOpenDate'], bins = 50)\n",
    "axs[2][1].set_xlabel('accountOpenDate')\n",
    "axs[2][1].set_title('Not Fraud')\n",
    "\n",
    "# Rotate x value \n",
    "for ax in fig.axes:\n",
    "    plt.sca(ax)\n",
    "    plt.xticks(rotation =90)\n",
    "    \n",
    "plt.subplots_adjust(hspace = 1)"
   ]
  },
  {
   "cell_type": "markdown",
   "metadata": {},
   "source": [
    "Looks like a healthy distribution no outliers. Transaction is between January 2016 to Dec 2016"
   ]
  },
  {
   "cell_type": "markdown",
   "metadata": {},
   "source": [
    "### 7.2 Categorical Features <a id='7._Categorical'></a>\n",
    "\n"
   ]
  },
  {
   "cell_type": "markdown",
   "metadata": {},
   "source": [
    "#### 7.2.1 Merchant Name\n",
    "\n",
    "Check if there is any duplicate that are mistype"
   ]
  },
  {
   "cell_type": "code",
   "execution_count": null,
   "metadata": {
    "scrolled": true
   },
   "outputs": [],
   "source": [
    "# check the top fraud merchant names\n",
    "fraud_transactions.merchantName.value_counts().head(50)"
   ]
  },
  {
   "cell_type": "markdown",
   "metadata": {},
   "source": [
    "\n",
    "\n"
   ]
  },
  {
   "cell_type": "markdown",
   "metadata": {},
   "source": [
    "Looks like there are many branches of the same company. Should we combine them together ?\n",
    "Lets check how many EZ Putt Putt are there\n",
    "\n"
   ]
  },
  {
   "cell_type": "code",
   "execution_count": null,
   "metadata": {},
   "outputs": [],
   "source": [
    "fraud_transactions[fraud_transactions.merchantName.str.contains('EZ') == True].merchantName.value_counts()"
   ]
  },
  {
   "cell_type": "code",
   "execution_count": null,
   "metadata": {},
   "outputs": [],
   "source": [
    "fraud_transactions[fraud_transactions.merchantName.str.contains('AMC') == True].merchantName.value_counts()"
   ]
  },
  {
   "cell_type": "code",
   "execution_count": null,
   "metadata": {},
   "outputs": [],
   "source": [
    "fraud_transactions[fraud_transactions.merchantName.str.contains('Hardee') == True].merchantName.value_counts()"
   ]
  },
  {
   "cell_type": "markdown",
   "metadata": {},
   "source": [
    "Lets get rid of this column and possibly put all franchise under one name"
   ]
  },
  {
   "cell_type": "code",
   "execution_count": null,
   "metadata": {},
   "outputs": [],
   "source": [
    "separator = '#'\n",
    "transactions['merchantName'] = [merchant_name.split(separator,1)[0].rstrip() for merchant_name in transactions['merchantName']]\n",
    "# for each merchant name in transaction, split them in two using separator '#'. take the first element of the split\n",
    "# strip the last empty space\n",
    "\n",
    "transactions['merchantName'].str.contains('#').value_counts()"
   ]
  },
  {
   "cell_type": "code",
   "execution_count": null,
   "metadata": {},
   "outputs": [],
   "source": [
    "# Do the same with fraud transactions\n",
    "fraud_transactions = transactions[transactions.isFraud ==True]\n",
    "fraud_transactions['merchantName'].value_counts().head(20)"
   ]
  },
  {
   "cell_type": "markdown",
   "metadata": {},
   "source": [
    "There are alot of '.com' lets check how many .com are fraud"
   ]
  },
  {
   "cell_type": "code",
   "execution_count": null,
   "metadata": {},
   "outputs": [],
   "source": [
    "fraud_transactions['merchantName'].str.contains('.com').value_counts()"
   ]
  },
  {
   "cell_type": "markdown",
   "metadata": {},
   "source": [
    "There are more than half of fraud have .com in it. We could use this to make a new column"
   ]
  },
  {
   "cell_type": "code",
   "execution_count": null,
   "metadata": {},
   "outputs": [],
   "source": [
    "fraud_transactions.loc[:,'containsCom'] = fraud_transactions['merchantName'].str.contains('.com').copy()\n",
    "transactions.loc[:,'containsCom'] = transactions.loc[:,'merchantName'].str.contains('.com').copy()"
   ]
  },
  {
   "cell_type": "markdown",
   "metadata": {},
   "source": [
    "\n",
    "\n",
    "#### 7.2.2 Transaction Type\n",
    "\n"
   ]
  },
  {
   "cell_type": "code",
   "execution_count": null,
   "metadata": {},
   "outputs": [],
   "source": [
    "# Does fraud occur in transaction type other than purchase?\n",
    "fraud_transactions['transactionType'].value_counts()\n"
   ]
  },
  {
   "cell_type": "markdown",
   "metadata": {},
   "source": [
    "Not all fraud transaction are Purchase so we need to keep this"
   ]
  },
  {
   "cell_type": "markdown",
   "metadata": {},
   "source": [
    "#### 7.2.3 Card last 4 digits.\n",
    "\n",
    "What do we do with only 2 digits or anything not 4?"
   ]
  },
  {
   "cell_type": "code",
   "execution_count": null,
   "metadata": {},
   "outputs": [],
   "source": [
    "transactions[transactions['cardLast4Digits'].str.len() < 4].shape\n"
   ]
  },
  {
   "cell_type": "code",
   "execution_count": null,
   "metadata": {},
   "outputs": [],
   "source": []
  },
  {
   "cell_type": "markdown",
   "metadata": {},
   "source": [
    "There are many rows with string card last 4 digits less than\n",
    "4. Lets keep this, the number of digits might give us some insights. It might be more useful to make a new variable that tells us the length of the digits than the actual number"
   ]
  },
  {
   "cell_type": "code",
   "execution_count": null,
   "metadata": {},
   "outputs": [],
   "source": [
    "transactions['lengthOfLast4Digits'] = transactions['cardLast4Digits'].str.len()\n",
    "transactions['lengthOfLast4Digits'].value_counts()"
   ]
  },
  {
   "cell_type": "code",
   "execution_count": null,
   "metadata": {},
   "outputs": [],
   "source": [
    "# remove card last 4 digits column\n",
    "transactions = transactions.drop(columns = 'cardLast4Digits')"
   ]
  },
  {
   "cell_type": "markdown",
   "metadata": {},
   "source": [
    "#### 7.2.4 Pos Entry Mode\n",
    "\n",
    "\n",
    "09 PAN entry via electronic commerce, including chip.\n",
    "\n",
    "02 Magnetic stripe read. For Plus transactions, this code also means    that the exact Track 2 content is included and CVV checking is        possible.\n",
    "\n",
    "05 Integrated circuit card read; card data reliable.\n",
    "\n",
    "90 Magnetic stripe read and extract content of Track 1 or Track 2 included (CVV check is possible).\n",
    "\n",
    "80 Chip card was unable to process/magnetic stripe read default."
   ]
  },
  {
   "cell_type": "code",
   "execution_count": null,
   "metadata": {},
   "outputs": [],
   "source": [
    "transactions['posEntryMode'].value_counts()"
   ]
  },
  {
   "cell_type": "markdown",
   "metadata": {},
   "source": [
    "Everything make sense. No faulty entry"
   ]
  },
  {
   "cell_type": "markdown",
   "metadata": {},
   "source": [
    "#### 7.2.5 Post Condition Code\n",
    "\n",
    "\n",
    "01 - Cardholder not present\n",
    "\n",
    "08 - Mail/telephone order (includes Visa phone and reoccurring transactions)\n",
    "\n",
    "99 - Doesnt exist"
   ]
  },
  {
   "cell_type": "code",
   "execution_count": null,
   "metadata": {},
   "outputs": [],
   "source": [
    "transactions['posConditionCode'].value_counts()\n",
    "# make new feature for 99"
   ]
  },
  {
   "cell_type": "markdown",
   "metadata": {},
   "source": [
    "code 99 doesnt exist. Should we replace with other code? Lets check what are the transaction with code 99. "
   ]
  },
  {
   "cell_type": "code",
   "execution_count": null,
   "metadata": {
    "scrolled": true
   },
   "outputs": [],
   "source": [
    "transactions[transactions['posConditionCode'] == '99'].merchantName.value_counts().head(30)"
   ]
  },
  {
   "cell_type": "markdown",
   "metadata": {},
   "source": [
    "#### 7.2.6 Country\n"
   ]
  },
  {
   "cell_type": "markdown",
   "metadata": {},
   "source": [
    "check if merchant country code is the same as acqCOuntry entry\n",
    "\n"
   ]
  },
  {
   "cell_type": "code",
   "execution_count": null,
   "metadata": {},
   "outputs": [],
   "source": [
    "(transactions.acqCountry == transactions.merchantCountryCode).value_counts()"
   ]
  },
  {
   "cell_type": "markdown",
   "metadata": {},
   "source": [
    "64 have countries that don't match. How many of these are fraud ?"
   ]
  },
  {
   "cell_type": "code",
   "execution_count": null,
   "metadata": {},
   "outputs": [],
   "source": [
    "transactions[(transactions.acqCountry != transactions.merchantCountryCode)].isFraud.value_counts()"
   ]
  },
  {
   "cell_type": "markdown",
   "metadata": {},
   "source": [
    "All of them are not fraud. What about the ones that have match countries:"
   ]
  },
  {
   "cell_type": "code",
   "execution_count": null,
   "metadata": {},
   "outputs": [],
   "source": [
    "transactions[transactions.acqCountry == transactions.merchantCountryCode].isFraud.value_counts()"
   ]
  },
  {
   "cell_type": "markdown",
   "metadata": {},
   "source": [
    "Whent the country is the same, there is more chance that is Fraud"
   ]
  },
  {
   "cell_type": "markdown",
   "metadata": {},
   "source": [
    "### 7.3 Numerical Features <a id='7._Numerical'></a>\n",
    "\n"
   ]
  },
  {
   "cell_type": "markdown",
   "metadata": {},
   "source": [
    "#### 7.3.1 Check for Zeros Transaction amount"
   ]
  },
  {
   "cell_type": "code",
   "execution_count": null,
   "metadata": {},
   "outputs": [],
   "source": [
    "fraud_transactions[fraud_transactions['transactionAmount']==0].transactionType.value_counts()"
   ]
  },
  {
   "cell_type": "markdown",
   "metadata": {},
   "source": [
    "Most of the transaction types are address verification when transactiont amount is zero"
   ]
  },
  {
   "cell_type": "code",
   "execution_count": null,
   "metadata": {
    "scrolled": true
   },
   "outputs": [],
   "source": []
  },
  {
   "cell_type": "markdown",
   "metadata": {},
   "source": [
    "#### 7.3.2 Check for distribution in credit card limit at 50000"
   ]
  },
  {
   "cell_type": "markdown",
   "metadata": {},
   "source": [
    "How many transactions using credit card with limit of 50,000 are fraud? "
   ]
  },
  {
   "cell_type": "code",
   "execution_count": null,
   "metadata": {},
   "outputs": [],
   "source": [
    "(transactions[transactions['creditLimit']==50000]['isFraud']).value_counts()"
   ]
  },
  {
   "cell_type": "code",
   "execution_count": null,
   "metadata": {},
   "outputs": [],
   "source": [
    "#  get the percentage\n",
    "789/ (44973+789) * 100"
   ]
  },
  {
   "cell_type": "code",
   "execution_count": null,
   "metadata": {},
   "outputs": [],
   "source": []
  },
  {
   "cell_type": "raw",
   "metadata": {},
   "source": []
  },
  {
   "cell_type": "markdown",
   "metadata": {},
   "source": [
    "Only 1.72% of credit card with limit of 50,000 is fraud"
   ]
  },
  {
   "cell_type": "markdown",
   "metadata": {},
   "source": [
    "What about the credit cards that are not 50,000. what are the percentages that are fraud?"
   ]
  },
  {
   "cell_type": "code",
   "execution_count": null,
   "metadata": {},
   "outputs": [],
   "source": [
    "(transactions[transactions['creditLimit']!=50000]['isFraud']).value_counts()"
   ]
  },
  {
   "cell_type": "code",
   "execution_count": null,
   "metadata": {},
   "outputs": [],
   "source": [
    "#  get the percentage\n",
    "10522/ (670998+10522) * 100"
   ]
  },
  {
   "cell_type": "markdown",
   "metadata": {},
   "source": [
    "1.54% of credit card with limit of not 50,000 is fraud"
   ]
  },
  {
   "cell_type": "markdown",
   "metadata": {},
   "source": [
    "They are about the same. so eventhough the cc limit is high, it only increase its fraud possibility by 0.2%\n",
    "Should we keep this cc limit of 50,000?\n"
   ]
  },
  {
   "cell_type": "markdown",
   "metadata": {},
   "source": [
    "Check the fraud/not fraud for each cc limit"
   ]
  },
  {
   "cell_type": "code",
   "execution_count": null,
   "metadata": {},
   "outputs": [],
   "source": [
    "limitArray = fraud_transactions['creditLimit'].unique().sort()\n",
    "\n",
    "fraud_transactions['creditLimit'].hist(figsize=(5,5))\n",
    "plt.title('FRAUD ONLY Transactions')\n",
    "plt.xlabel('cc limit $')"
   ]
  },
  {
   "cell_type": "code",
   "execution_count": null,
   "metadata": {},
   "outputs": [],
   "source": [
    "transactions['creditLimit'].hist(figsize=(5,5))\n",
    "plt.title('All Transactions')\n",
    "plt.xlabel('cc limit $')\n"
   ]
  },
  {
   "cell_type": "markdown",
   "metadata": {},
   "source": [
    "We can do Z proportion test to check if the proportion is actually different ?\n",
    "Lets reduce the number of unique values to 8 instead of 10. We can treat this entry as categorical instead"
   ]
  },
  {
   "cell_type": "code",
   "execution_count": null,
   "metadata": {},
   "outputs": [],
   "source": [
    "transactions['creditLimit'].value_counts()"
   ]
  },
  {
   "cell_type": "code",
   "execution_count": null,
   "metadata": {},
   "outputs": [],
   "source": [
    "conditions = [\n",
    "    (transactions['creditLimit'] <= 1000.0),\n",
    "    (transactions['creditLimit'] >= 2500.0) & (transactions['creditLimit'] <= 5000.0),\n",
    "    (transactions['creditLimit'] >= 7500.0) & (transactions['creditLimit'] <= 10000.0),\n",
    "    (transactions['creditLimit'] >= 15000.0)& (transactions['creditLimit'] <= 20000.0) ,\n",
    "    (transactions['creditLimit'] == 50000.0)]\n",
    "# 1- '1000 and below'\n",
    "# 2- '2500-5000'\n",
    "# 3- '7500-10000'\n",
    "# 4- 15000-20000'\n",
    "# 5-'50000 and over'\n",
    "choices = [1, 2,3,4,5]\n",
    "transactions['creditLimitCategory'] = np.select(conditions,choices)\n",
    "\n"
   ]
  },
  {
   "cell_type": "code",
   "execution_count": null,
   "metadata": {},
   "outputs": [],
   "source": [
    "# Use pandas. plot to plot bar\n",
    "# .sort_index make sure its not sorted according to the value\n",
    "\n",
    "transactions['creditLimitCategory'].value_counts().sort_index(axis=0).plot(kind='bar', rot = 0, x = 'category')\n"
   ]
  },
  {
   "cell_type": "code",
   "execution_count": null,
   "metadata": {},
   "outputs": [],
   "source": [
    "# alternative, use matplot lib plt.bar()\n",
    "labels, counts = np.unique(transactions['creditLimitCategory'],return_counts = True)\n",
    "plt.bar(labels, counts, align= 'center')\n",
    "plt.gca().set_xticks(labels)\n",
    "plt.show()"
   ]
  },
  {
   "cell_type": "markdown",
   "metadata": {},
   "source": [
    "Drop creditLimit column now that we have turn it into categorical feature"
   ]
  },
  {
   "cell_type": "code",
   "execution_count": null,
   "metadata": {},
   "outputs": [],
   "source": [
    "transactions = transactions.drop(columns = 'creditLimit')"
   ]
  },
  {
   "cell_type": "markdown",
   "metadata": {},
   "source": [
    "## 8 Save Data<a id='8._Save'></a>"
   ]
  },
  {
   "cell_type": "code",
   "execution_count": null,
   "metadata": {},
   "outputs": [],
   "source": [
    "transactions.dtypes"
   ]
  },
  {
   "cell_type": "code",
   "execution_count": null,
   "metadata": {},
   "outputs": [],
   "source": [
    "datapath = '../CreditCardFraud/data'\n",
    "# renaming the output data directory and re-running this notebook, for example,\n",
    "# will recreate this (empty) directory 'data' and resave the data files.\n",
    "# NB this is not a substitute for a modern data pipeline, for which there are\n",
    "# various tools. However, for our purposes here, and often in a \"one off\" analysis,\n",
    "# this is useful because we have to deliberately move/delete our data in order\n",
    "# to overwrite it.\n",
    "#if path doesnt exist\n",
    "\n",
    "if not os.path.exists(datapath):\n",
    "    #create data path\n",
    "    os.mkdir(datapath)\n",
    "    \n",
    "    "
   ]
  },
  {
   "cell_type": "code",
   "execution_count": null,
   "metadata": {},
   "outputs": [],
   "source": [
    "datapath_transactiondata = os.path.join(datapath, 'transaction_data_cleaned.csv')\n",
    "\n",
    "# if path with this ski_data cleaned file doesnt exist\n",
    "# if not os.path.exists(datapath_transactiondata):\n",
    "# create it\n",
    "transactions.to_csv(datapath_transactiondata, index=False)\n",
    "print(datapath_transactiondata)"
   ]
  },
  {
   "cell_type": "code",
   "execution_count": null,
   "metadata": {},
   "outputs": [],
   "source": [
    "df = pd.read_csv('data/transaction_data_cleaned.csv')\n"
   ]
  },
  {
   "cell_type": "code",
   "execution_count": null,
   "metadata": {},
   "outputs": [],
   "source": [
    "df"
   ]
  },
  {
   "cell_type": "code",
   "execution_count": null,
   "metadata": {},
   "outputs": [],
   "source": [
    "df.dtypes"
   ]
  },
  {
   "cell_type": "code",
   "execution_count": null,
   "metadata": {},
   "outputs": [],
   "source": []
  }
 ],
 "metadata": {
  "kernelspec": {
   "display_name": "Python 3",
   "language": "python",
   "name": "python3"
  },
  "language_info": {
   "codemirror_mode": {
    "name": "ipython",
    "version": 3
   },
   "file_extension": ".py",
   "mimetype": "text/x-python",
   "name": "python",
   "nbconvert_exporter": "python",
   "pygments_lexer": "ipython3",
   "version": "3.8.6"
  }
 },
 "nbformat": 4,
 "nbformat_minor": 4
}
